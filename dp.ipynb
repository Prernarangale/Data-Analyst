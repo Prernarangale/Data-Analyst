{
 "cells": [
  {
   "cell_type": "code",
   "execution_count": 1,
   "id": "67a41b36",
   "metadata": {},
   "outputs": [],
   "source": [
    "import pandas as pd\n",
    "import os\n",
    "import numpy as np \n",
    "import matplotlib.pyplot as plt\n",
    "import seaborn as sns"
   ]
  },
  {
   "cell_type": "code",
   "execution_count": 2,
   "id": "dd855b73",
   "metadata": {},
   "outputs": [],
   "source": [
    "dp=pd.read_csv(\"C:\\\\Users\\\\kaust\\\\WalkTheDogs.csv\")"
   ]
  },
  {
   "cell_type": "code",
   "execution_count": 3,
   "id": "95c050cc",
   "metadata": {
    "scrolled": true
   },
   "outputs": [
    {
     "data": {
      "text/html": [
       "<div>\n",
       "<style scoped>\n",
       "    .dataframe tbody tr th:only-of-type {\n",
       "        vertical-align: middle;\n",
       "    }\n",
       "\n",
       "    .dataframe tbody tr th {\n",
       "        vertical-align: top;\n",
       "    }\n",
       "\n",
       "    .dataframe thead th {\n",
       "        text-align: right;\n",
       "    }\n",
       "</style>\n",
       "<table border=\"1\" class=\"dataframe\">\n",
       "  <thead>\n",
       "    <tr style=\"text-align: right;\">\n",
       "      <th></th>\n",
       "      <th>Unnamed: 0</th>\n",
       "      <th>StepCount</th>\n",
       "      <th>Kcal</th>\n",
       "      <th>Miles</th>\n",
       "      <th>Weather</th>\n",
       "      <th>Day</th>\n",
       "      <th>Walk</th>\n",
       "      <th>Steps</th>\n",
       "    </tr>\n",
       "  </thead>\n",
       "  <tbody>\n",
       "    <tr>\n",
       "      <th>0</th>\n",
       "      <td>1</td>\n",
       "      <td>2615</td>\n",
       "      <td>8</td>\n",
       "      <td>1.4</td>\n",
       "      <td>shine</td>\n",
       "      <td>F</td>\n",
       "      <td>0</td>\n",
       "      <td>2.615</td>\n",
       "    </tr>\n",
       "    <tr>\n",
       "      <th>1</th>\n",
       "      <td>2</td>\n",
       "      <td>3323</td>\n",
       "      <td>12</td>\n",
       "      <td>1.8</td>\n",
       "      <td>shine</td>\n",
       "      <td>S</td>\n",
       "      <td>0</td>\n",
       "      <td>3.323</td>\n",
       "    </tr>\n",
       "    <tr>\n",
       "      <th>2</th>\n",
       "      <td>3</td>\n",
       "      <td>2721</td>\n",
       "      <td>13</td>\n",
       "      <td>1.4</td>\n",
       "      <td>shine</td>\n",
       "      <td>U</td>\n",
       "      <td>0</td>\n",
       "      <td>2.721</td>\n",
       "    </tr>\n",
       "    <tr>\n",
       "      <th>3</th>\n",
       "      <td>4</td>\n",
       "      <td>2454</td>\n",
       "      <td>12</td>\n",
       "      <td>1.3</td>\n",
       "      <td>shine</td>\n",
       "      <td>M</td>\n",
       "      <td>0</td>\n",
       "      <td>2.454</td>\n",
       "    </tr>\n",
       "    <tr>\n",
       "      <th>4</th>\n",
       "      <td>5</td>\n",
       "      <td>5528</td>\n",
       "      <td>152</td>\n",
       "      <td>3.1</td>\n",
       "      <td>cold</td>\n",
       "      <td>T</td>\n",
       "      <td>1</td>\n",
       "      <td>5.528</td>\n",
       "    </tr>\n",
       "  </tbody>\n",
       "</table>\n",
       "</div>"
      ],
      "text/plain": [
       "   Unnamed: 0  StepCount  Kcal  Miles Weather Day  Walk  Steps\n",
       "0           1       2615     8    1.4   shine   F     0  2.615\n",
       "1           2       3323    12    1.8   shine   S     0  3.323\n",
       "2           3       2721    13    1.4   shine   U     0  2.721\n",
       "3           4       2454    12    1.3   shine   M     0  2.454\n",
       "4           5       5528   152    3.1    cold   T     1  5.528"
      ]
     },
     "execution_count": 3,
     "metadata": {},
     "output_type": "execute_result"
    }
   ],
   "source": [
    "dp.head()"
   ]
  },
  {
   "cell_type": "code",
   "execution_count": 4,
   "id": "1fe7c2d5",
   "metadata": {},
   "outputs": [
    {
     "data": {
      "text/html": [
       "<div>\n",
       "<style scoped>\n",
       "    .dataframe tbody tr th:only-of-type {\n",
       "        vertical-align: middle;\n",
       "    }\n",
       "\n",
       "    .dataframe tbody tr th {\n",
       "        vertical-align: top;\n",
       "    }\n",
       "\n",
       "    .dataframe thead th {\n",
       "        text-align: right;\n",
       "    }\n",
       "</style>\n",
       "<table border=\"1\" class=\"dataframe\">\n",
       "  <thead>\n",
       "    <tr style=\"text-align: right;\">\n",
       "      <th></th>\n",
       "      <th>Unnamed: 0</th>\n",
       "      <th>StepCount</th>\n",
       "      <th>Kcal</th>\n",
       "      <th>Miles</th>\n",
       "      <th>Weather</th>\n",
       "      <th>Day</th>\n",
       "      <th>Walk</th>\n",
       "      <th>Steps</th>\n",
       "    </tr>\n",
       "  </thead>\n",
       "  <tbody>\n",
       "    <tr>\n",
       "      <th>0</th>\n",
       "      <td>False</td>\n",
       "      <td>False</td>\n",
       "      <td>False</td>\n",
       "      <td>False</td>\n",
       "      <td>False</td>\n",
       "      <td>False</td>\n",
       "      <td>False</td>\n",
       "      <td>False</td>\n",
       "    </tr>\n",
       "    <tr>\n",
       "      <th>1</th>\n",
       "      <td>False</td>\n",
       "      <td>False</td>\n",
       "      <td>False</td>\n",
       "      <td>False</td>\n",
       "      <td>False</td>\n",
       "      <td>False</td>\n",
       "      <td>False</td>\n",
       "      <td>False</td>\n",
       "    </tr>\n",
       "    <tr>\n",
       "      <th>2</th>\n",
       "      <td>False</td>\n",
       "      <td>False</td>\n",
       "      <td>False</td>\n",
       "      <td>False</td>\n",
       "      <td>False</td>\n",
       "      <td>False</td>\n",
       "      <td>False</td>\n",
       "      <td>False</td>\n",
       "    </tr>\n",
       "    <tr>\n",
       "      <th>3</th>\n",
       "      <td>False</td>\n",
       "      <td>False</td>\n",
       "      <td>False</td>\n",
       "      <td>False</td>\n",
       "      <td>False</td>\n",
       "      <td>False</td>\n",
       "      <td>False</td>\n",
       "      <td>False</td>\n",
       "    </tr>\n",
       "    <tr>\n",
       "      <th>4</th>\n",
       "      <td>False</td>\n",
       "      <td>False</td>\n",
       "      <td>False</td>\n",
       "      <td>False</td>\n",
       "      <td>False</td>\n",
       "      <td>False</td>\n",
       "      <td>False</td>\n",
       "      <td>False</td>\n",
       "    </tr>\n",
       "    <tr>\n",
       "      <th>...</th>\n",
       "      <td>...</td>\n",
       "      <td>...</td>\n",
       "      <td>...</td>\n",
       "      <td>...</td>\n",
       "      <td>...</td>\n",
       "      <td>...</td>\n",
       "      <td>...</td>\n",
       "      <td>...</td>\n",
       "    </tr>\n",
       "    <tr>\n",
       "      <th>218</th>\n",
       "      <td>False</td>\n",
       "      <td>False</td>\n",
       "      <td>False</td>\n",
       "      <td>False</td>\n",
       "      <td>False</td>\n",
       "      <td>False</td>\n",
       "      <td>False</td>\n",
       "      <td>False</td>\n",
       "    </tr>\n",
       "    <tr>\n",
       "      <th>219</th>\n",
       "      <td>False</td>\n",
       "      <td>False</td>\n",
       "      <td>False</td>\n",
       "      <td>False</td>\n",
       "      <td>False</td>\n",
       "      <td>False</td>\n",
       "      <td>False</td>\n",
       "      <td>False</td>\n",
       "    </tr>\n",
       "    <tr>\n",
       "      <th>220</th>\n",
       "      <td>False</td>\n",
       "      <td>False</td>\n",
       "      <td>False</td>\n",
       "      <td>False</td>\n",
       "      <td>False</td>\n",
       "      <td>False</td>\n",
       "      <td>False</td>\n",
       "      <td>False</td>\n",
       "    </tr>\n",
       "    <tr>\n",
       "      <th>221</th>\n",
       "      <td>False</td>\n",
       "      <td>False</td>\n",
       "      <td>False</td>\n",
       "      <td>False</td>\n",
       "      <td>False</td>\n",
       "      <td>False</td>\n",
       "      <td>False</td>\n",
       "      <td>False</td>\n",
       "    </tr>\n",
       "    <tr>\n",
       "      <th>222</th>\n",
       "      <td>False</td>\n",
       "      <td>False</td>\n",
       "      <td>False</td>\n",
       "      <td>False</td>\n",
       "      <td>False</td>\n",
       "      <td>False</td>\n",
       "      <td>False</td>\n",
       "      <td>False</td>\n",
       "    </tr>\n",
       "  </tbody>\n",
       "</table>\n",
       "<p>223 rows × 8 columns</p>\n",
       "</div>"
      ],
      "text/plain": [
       "     Unnamed: 0  StepCount   Kcal  Miles  Weather    Day   Walk  Steps\n",
       "0         False      False  False  False    False  False  False  False\n",
       "1         False      False  False  False    False  False  False  False\n",
       "2         False      False  False  False    False  False  False  False\n",
       "3         False      False  False  False    False  False  False  False\n",
       "4         False      False  False  False    False  False  False  False\n",
       "..          ...        ...    ...    ...      ...    ...    ...    ...\n",
       "218       False      False  False  False    False  False  False  False\n",
       "219       False      False  False  False    False  False  False  False\n",
       "220       False      False  False  False    False  False  False  False\n",
       "221       False      False  False  False    False  False  False  False\n",
       "222       False      False  False  False    False  False  False  False\n",
       "\n",
       "[223 rows x 8 columns]"
      ]
     },
     "execution_count": 4,
     "metadata": {},
     "output_type": "execute_result"
    }
   ],
   "source": [
    "dp.isnull()"
   ]
  },
  {
   "cell_type": "code",
   "execution_count": 5,
   "id": "c969fcbe",
   "metadata": {},
   "outputs": [
    {
     "name": "stdout",
     "output_type": "stream",
     "text": [
      "<class 'pandas.core.frame.DataFrame'>\n",
      "RangeIndex: 223 entries, 0 to 222\n",
      "Data columns (total 8 columns):\n",
      " #   Column      Non-Null Count  Dtype  \n",
      "---  ------      --------------  -----  \n",
      " 0   Unnamed: 0  223 non-null    int64  \n",
      " 1   StepCount   223 non-null    int64  \n",
      " 2   Kcal        223 non-null    int64  \n",
      " 3   Miles       223 non-null    float64\n",
      " 4   Weather     223 non-null    object \n",
      " 5   Day         223 non-null    object \n",
      " 6   Walk        223 non-null    int64  \n",
      " 7   Steps       223 non-null    float64\n",
      "dtypes: float64(2), int64(4), object(2)\n",
      "memory usage: 14.1+ KB\n"
     ]
    }
   ],
   "source": [
    "dp.info()"
   ]
  },
  {
   "cell_type": "code",
   "execution_count": 6,
   "id": "f6f8efae",
   "metadata": {},
   "outputs": [
    {
     "data": {
      "text/html": [
       "<div>\n",
       "<style scoped>\n",
       "    .dataframe tbody tr th:only-of-type {\n",
       "        vertical-align: middle;\n",
       "    }\n",
       "\n",
       "    .dataframe tbody tr th {\n",
       "        vertical-align: top;\n",
       "    }\n",
       "\n",
       "    .dataframe thead th {\n",
       "        text-align: right;\n",
       "    }\n",
       "</style>\n",
       "<table border=\"1\" class=\"dataframe\">\n",
       "  <thead>\n",
       "    <tr style=\"text-align: right;\">\n",
       "      <th></th>\n",
       "      <th>User</th>\n",
       "      <th>StepCount</th>\n",
       "      <th>Kcal</th>\n",
       "      <th>Miles</th>\n",
       "      <th>Weather</th>\n",
       "      <th>Day</th>\n",
       "      <th>Walk</th>\n",
       "      <th>Steps</th>\n",
       "    </tr>\n",
       "  </thead>\n",
       "  <tbody>\n",
       "    <tr>\n",
       "      <th>0</th>\n",
       "      <td>1</td>\n",
       "      <td>2615</td>\n",
       "      <td>8</td>\n",
       "      <td>1.4</td>\n",
       "      <td>shine</td>\n",
       "      <td>F</td>\n",
       "      <td>0</td>\n",
       "      <td>2.615</td>\n",
       "    </tr>\n",
       "    <tr>\n",
       "      <th>1</th>\n",
       "      <td>2</td>\n",
       "      <td>3323</td>\n",
       "      <td>12</td>\n",
       "      <td>1.8</td>\n",
       "      <td>shine</td>\n",
       "      <td>S</td>\n",
       "      <td>0</td>\n",
       "      <td>3.323</td>\n",
       "    </tr>\n",
       "    <tr>\n",
       "      <th>2</th>\n",
       "      <td>3</td>\n",
       "      <td>2721</td>\n",
       "      <td>13</td>\n",
       "      <td>1.4</td>\n",
       "      <td>shine</td>\n",
       "      <td>U</td>\n",
       "      <td>0</td>\n",
       "      <td>2.721</td>\n",
       "    </tr>\n",
       "    <tr>\n",
       "      <th>3</th>\n",
       "      <td>4</td>\n",
       "      <td>2454</td>\n",
       "      <td>12</td>\n",
       "      <td>1.3</td>\n",
       "      <td>shine</td>\n",
       "      <td>M</td>\n",
       "      <td>0</td>\n",
       "      <td>2.454</td>\n",
       "    </tr>\n",
       "    <tr>\n",
       "      <th>4</th>\n",
       "      <td>5</td>\n",
       "      <td>5528</td>\n",
       "      <td>152</td>\n",
       "      <td>3.1</td>\n",
       "      <td>cold</td>\n",
       "      <td>T</td>\n",
       "      <td>1</td>\n",
       "      <td>5.528</td>\n",
       "    </tr>\n",
       "    <tr>\n",
       "      <th>...</th>\n",
       "      <td>...</td>\n",
       "      <td>...</td>\n",
       "      <td>...</td>\n",
       "      <td>...</td>\n",
       "      <td>...</td>\n",
       "      <td>...</td>\n",
       "      <td>...</td>\n",
       "      <td>...</td>\n",
       "    </tr>\n",
       "    <tr>\n",
       "      <th>218</th>\n",
       "      <td>219</td>\n",
       "      <td>1691</td>\n",
       "      <td>0</td>\n",
       "      <td>0.9</td>\n",
       "      <td>cold</td>\n",
       "      <td>M</td>\n",
       "      <td>0</td>\n",
       "      <td>1.691</td>\n",
       "    </tr>\n",
       "    <tr>\n",
       "      <th>219</th>\n",
       "      <td>220</td>\n",
       "      <td>3713</td>\n",
       "      <td>102</td>\n",
       "      <td>2.0</td>\n",
       "      <td>cold</td>\n",
       "      <td>T</td>\n",
       "      <td>0</td>\n",
       "      <td>3.713</td>\n",
       "    </tr>\n",
       "    <tr>\n",
       "      <th>220</th>\n",
       "      <td>221</td>\n",
       "      <td>3903</td>\n",
       "      <td>120</td>\n",
       "      <td>2.1</td>\n",
       "      <td>cold</td>\n",
       "      <td>W</td>\n",
       "      <td>1</td>\n",
       "      <td>3.903</td>\n",
       "    </tr>\n",
       "    <tr>\n",
       "      <th>221</th>\n",
       "      <td>222</td>\n",
       "      <td>5772</td>\n",
       "      <td>115</td>\n",
       "      <td>3.2</td>\n",
       "      <td>cold</td>\n",
       "      <td>R</td>\n",
       "      <td>1</td>\n",
       "      <td>5.772</td>\n",
       "    </tr>\n",
       "    <tr>\n",
       "      <th>222</th>\n",
       "      <td>223</td>\n",
       "      <td>5443</td>\n",
       "      <td>135</td>\n",
       "      <td>3.0</td>\n",
       "      <td>cold</td>\n",
       "      <td>F</td>\n",
       "      <td>1</td>\n",
       "      <td>5.443</td>\n",
       "    </tr>\n",
       "  </tbody>\n",
       "</table>\n",
       "<p>223 rows × 8 columns</p>\n",
       "</div>"
      ],
      "text/plain": [
       "     User  StepCount  Kcal  Miles Weather Day  Walk  Steps\n",
       "0       1       2615     8    1.4   shine   F     0  2.615\n",
       "1       2       3323    12    1.8   shine   S     0  3.323\n",
       "2       3       2721    13    1.4   shine   U     0  2.721\n",
       "3       4       2454    12    1.3   shine   M     0  2.454\n",
       "4       5       5528   152    3.1    cold   T     1  5.528\n",
       "..    ...        ...   ...    ...     ...  ..   ...    ...\n",
       "218   219       1691     0    0.9    cold   M     0  1.691\n",
       "219   220       3713   102    2.0    cold   T     0  3.713\n",
       "220   221       3903   120    2.1    cold   W     1  3.903\n",
       "221   222       5772   115    3.2    cold   R     1  5.772\n",
       "222   223       5443   135    3.0    cold   F     1  5.443\n",
       "\n",
       "[223 rows x 8 columns]"
      ]
     },
     "execution_count": 6,
     "metadata": {},
     "output_type": "execute_result"
    }
   ],
   "source": [
    "dp.rename(columns = {'Unnamed: 0':'User'})"
   ]
  },
  {
   "cell_type": "code",
   "execution_count": 7,
   "id": "ef2b23aa",
   "metadata": {},
   "outputs": [
    {
     "data": {
      "text/html": [
       "<div>\n",
       "<style scoped>\n",
       "    .dataframe tbody tr th:only-of-type {\n",
       "        vertical-align: middle;\n",
       "    }\n",
       "\n",
       "    .dataframe tbody tr th {\n",
       "        vertical-align: top;\n",
       "    }\n",
       "\n",
       "    .dataframe thead th {\n",
       "        text-align: right;\n",
       "    }\n",
       "</style>\n",
       "<table border=\"1\" class=\"dataframe\">\n",
       "  <thead>\n",
       "    <tr style=\"text-align: right;\">\n",
       "      <th></th>\n",
       "      <th>Unnamed: 0</th>\n",
       "      <th>StepCount</th>\n",
       "      <th>Kcal</th>\n",
       "      <th>Miles</th>\n",
       "      <th>Walk</th>\n",
       "      <th>Steps</th>\n",
       "    </tr>\n",
       "  </thead>\n",
       "  <tbody>\n",
       "    <tr>\n",
       "      <th>count</th>\n",
       "      <td>223.000000</td>\n",
       "      <td>223.000000</td>\n",
       "      <td>223.000000</td>\n",
       "      <td>223.000000</td>\n",
       "      <td>223.000000</td>\n",
       "      <td>223.000000</td>\n",
       "    </tr>\n",
       "    <tr>\n",
       "      <th>mean</th>\n",
       "      <td>112.000000</td>\n",
       "      <td>5831.802691</td>\n",
       "      <td>136.139013</td>\n",
       "      <td>3.215247</td>\n",
       "      <td>0.304933</td>\n",
       "      <td>5.831803</td>\n",
       "    </tr>\n",
       "    <tr>\n",
       "      <th>std</th>\n",
       "      <td>64.518731</td>\n",
       "      <td>2884.027298</td>\n",
       "      <td>119.919956</td>\n",
       "      <td>1.639254</td>\n",
       "      <td>0.461415</td>\n",
       "      <td>2.884027</td>\n",
       "    </tr>\n",
       "    <tr>\n",
       "      <th>min</th>\n",
       "      <td>1.000000</td>\n",
       "      <td>674.000000</td>\n",
       "      <td>0.000000</td>\n",
       "      <td>0.000000</td>\n",
       "      <td>0.000000</td>\n",
       "      <td>0.674000</td>\n",
       "    </tr>\n",
       "    <tr>\n",
       "      <th>25%</th>\n",
       "      <td>56.500000</td>\n",
       "      <td>3768.500000</td>\n",
       "      <td>35.500000</td>\n",
       "      <td>2.100000</td>\n",
       "      <td>0.000000</td>\n",
       "      <td>3.768500</td>\n",
       "    </tr>\n",
       "    <tr>\n",
       "      <th>50%</th>\n",
       "      <td>112.000000</td>\n",
       "      <td>5487.000000</td>\n",
       "      <td>115.000000</td>\n",
       "      <td>3.000000</td>\n",
       "      <td>0.000000</td>\n",
       "      <td>5.487000</td>\n",
       "    </tr>\n",
       "    <tr>\n",
       "      <th>75%</th>\n",
       "      <td>167.500000</td>\n",
       "      <td>7391.500000</td>\n",
       "      <td>203.000000</td>\n",
       "      <td>4.100000</td>\n",
       "      <td>1.000000</td>\n",
       "      <td>7.391500</td>\n",
       "    </tr>\n",
       "    <tr>\n",
       "      <th>max</th>\n",
       "      <td>223.000000</td>\n",
       "      <td>18194.000000</td>\n",
       "      <td>791.000000</td>\n",
       "      <td>10.200000</td>\n",
       "      <td>1.000000</td>\n",
       "      <td>18.194000</td>\n",
       "    </tr>\n",
       "  </tbody>\n",
       "</table>\n",
       "</div>"
      ],
      "text/plain": [
       "       Unnamed: 0     StepCount        Kcal       Miles        Walk  \\\n",
       "count  223.000000    223.000000  223.000000  223.000000  223.000000   \n",
       "mean   112.000000   5831.802691  136.139013    3.215247    0.304933   \n",
       "std     64.518731   2884.027298  119.919956    1.639254    0.461415   \n",
       "min      1.000000    674.000000    0.000000    0.000000    0.000000   \n",
       "25%     56.500000   3768.500000   35.500000    2.100000    0.000000   \n",
       "50%    112.000000   5487.000000  115.000000    3.000000    0.000000   \n",
       "75%    167.500000   7391.500000  203.000000    4.100000    1.000000   \n",
       "max    223.000000  18194.000000  791.000000   10.200000    1.000000   \n",
       "\n",
       "            Steps  \n",
       "count  223.000000  \n",
       "mean     5.831803  \n",
       "std      2.884027  \n",
       "min      0.674000  \n",
       "25%      3.768500  \n",
       "50%      5.487000  \n",
       "75%      7.391500  \n",
       "max     18.194000  "
      ]
     },
     "execution_count": 7,
     "metadata": {},
     "output_type": "execute_result"
    }
   ],
   "source": [
    "dp.describe()"
   ]
  },
  {
   "cell_type": "code",
   "execution_count": 8,
   "id": "8a9556e2",
   "metadata": {},
   "outputs": [
    {
     "data": {
      "text/plain": [
       "0      False\n",
       "1      False\n",
       "2      False\n",
       "3      False\n",
       "4      False\n",
       "       ...  \n",
       "218    False\n",
       "219    False\n",
       "220    False\n",
       "221    False\n",
       "222    False\n",
       "Length: 223, dtype: bool"
      ]
     },
     "execution_count": 8,
     "metadata": {},
     "output_type": "execute_result"
    }
   ],
   "source": [
    "dp.duplicated()\n"
   ]
  },
  {
   "cell_type": "code",
   "execution_count": 9,
   "id": "4ed0247b",
   "metadata": {},
   "outputs": [
    {
     "data": {
      "text/html": [
       "<div>\n",
       "<style scoped>\n",
       "    .dataframe tbody tr th:only-of-type {\n",
       "        vertical-align: middle;\n",
       "    }\n",
       "\n",
       "    .dataframe tbody tr th {\n",
       "        vertical-align: top;\n",
       "    }\n",
       "\n",
       "    .dataframe thead th {\n",
       "        text-align: right;\n",
       "    }\n",
       "</style>\n",
       "<table border=\"1\" class=\"dataframe\">\n",
       "  <thead>\n",
       "    <tr style=\"text-align: right;\">\n",
       "      <th></th>\n",
       "      <th>Unnamed: 0</th>\n",
       "      <th>StepCount</th>\n",
       "      <th>Kcal</th>\n",
       "      <th>Miles</th>\n",
       "      <th>Weather</th>\n",
       "      <th>Day</th>\n",
       "      <th>Walk</th>\n",
       "      <th>Steps</th>\n",
       "    </tr>\n",
       "  </thead>\n",
       "  <tbody>\n",
       "    <tr>\n",
       "      <th>0</th>\n",
       "      <td>1</td>\n",
       "      <td>2615</td>\n",
       "      <td>8</td>\n",
       "      <td>1.4</td>\n",
       "      <td>shine</td>\n",
       "      <td>F</td>\n",
       "      <td>0</td>\n",
       "      <td>2.615</td>\n",
       "    </tr>\n",
       "    <tr>\n",
       "      <th>1</th>\n",
       "      <td>2</td>\n",
       "      <td>3323</td>\n",
       "      <td>12</td>\n",
       "      <td>1.8</td>\n",
       "      <td>shine</td>\n",
       "      <td>S</td>\n",
       "      <td>0</td>\n",
       "      <td>3.323</td>\n",
       "    </tr>\n",
       "    <tr>\n",
       "      <th>2</th>\n",
       "      <td>3</td>\n",
       "      <td>2721</td>\n",
       "      <td>13</td>\n",
       "      <td>1.4</td>\n",
       "      <td>shine</td>\n",
       "      <td>U</td>\n",
       "      <td>0</td>\n",
       "      <td>2.721</td>\n",
       "    </tr>\n",
       "    <tr>\n",
       "      <th>3</th>\n",
       "      <td>4</td>\n",
       "      <td>2454</td>\n",
       "      <td>12</td>\n",
       "      <td>1.3</td>\n",
       "      <td>shine</td>\n",
       "      <td>M</td>\n",
       "      <td>0</td>\n",
       "      <td>2.454</td>\n",
       "    </tr>\n",
       "    <tr>\n",
       "      <th>4</th>\n",
       "      <td>5</td>\n",
       "      <td>5528</td>\n",
       "      <td>152</td>\n",
       "      <td>3.1</td>\n",
       "      <td>cold</td>\n",
       "      <td>T</td>\n",
       "      <td>1</td>\n",
       "      <td>5.528</td>\n",
       "    </tr>\n",
       "    <tr>\n",
       "      <th>...</th>\n",
       "      <td>...</td>\n",
       "      <td>...</td>\n",
       "      <td>...</td>\n",
       "      <td>...</td>\n",
       "      <td>...</td>\n",
       "      <td>...</td>\n",
       "      <td>...</td>\n",
       "      <td>...</td>\n",
       "    </tr>\n",
       "    <tr>\n",
       "      <th>218</th>\n",
       "      <td>219</td>\n",
       "      <td>1691</td>\n",
       "      <td>0</td>\n",
       "      <td>0.9</td>\n",
       "      <td>cold</td>\n",
       "      <td>M</td>\n",
       "      <td>0</td>\n",
       "      <td>1.691</td>\n",
       "    </tr>\n",
       "    <tr>\n",
       "      <th>219</th>\n",
       "      <td>220</td>\n",
       "      <td>3713</td>\n",
       "      <td>102</td>\n",
       "      <td>2.0</td>\n",
       "      <td>cold</td>\n",
       "      <td>T</td>\n",
       "      <td>0</td>\n",
       "      <td>3.713</td>\n",
       "    </tr>\n",
       "    <tr>\n",
       "      <th>220</th>\n",
       "      <td>221</td>\n",
       "      <td>3903</td>\n",
       "      <td>120</td>\n",
       "      <td>2.1</td>\n",
       "      <td>cold</td>\n",
       "      <td>W</td>\n",
       "      <td>1</td>\n",
       "      <td>3.903</td>\n",
       "    </tr>\n",
       "    <tr>\n",
       "      <th>221</th>\n",
       "      <td>222</td>\n",
       "      <td>5772</td>\n",
       "      <td>115</td>\n",
       "      <td>3.2</td>\n",
       "      <td>cold</td>\n",
       "      <td>R</td>\n",
       "      <td>1</td>\n",
       "      <td>5.772</td>\n",
       "    </tr>\n",
       "    <tr>\n",
       "      <th>222</th>\n",
       "      <td>223</td>\n",
       "      <td>5443</td>\n",
       "      <td>135</td>\n",
       "      <td>3.0</td>\n",
       "      <td>cold</td>\n",
       "      <td>F</td>\n",
       "      <td>1</td>\n",
       "      <td>5.443</td>\n",
       "    </tr>\n",
       "  </tbody>\n",
       "</table>\n",
       "<p>223 rows × 8 columns</p>\n",
       "</div>"
      ],
      "text/plain": [
       "     Unnamed: 0  StepCount  Kcal  Miles Weather Day  Walk  Steps\n",
       "0             1       2615     8    1.4   shine   F     0  2.615\n",
       "1             2       3323    12    1.8   shine   S     0  3.323\n",
       "2             3       2721    13    1.4   shine   U     0  2.721\n",
       "3             4       2454    12    1.3   shine   M     0  2.454\n",
       "4             5       5528   152    3.1    cold   T     1  5.528\n",
       "..          ...        ...   ...    ...     ...  ..   ...    ...\n",
       "218         219       1691     0    0.9    cold   M     0  1.691\n",
       "219         220       3713   102    2.0    cold   T     0  3.713\n",
       "220         221       3903   120    2.1    cold   W     1  3.903\n",
       "221         222       5772   115    3.2    cold   R     1  5.772\n",
       "222         223       5443   135    3.0    cold   F     1  5.443\n",
       "\n",
       "[223 rows x 8 columns]"
      ]
     },
     "execution_count": 9,
     "metadata": {},
     "output_type": "execute_result"
    }
   ],
   "source": [
    "dp.drop_duplicates()"
   ]
  },
  {
   "cell_type": "code",
   "execution_count": 10,
   "id": "fe8a5342",
   "metadata": {},
   "outputs": [
    {
     "data": {
      "text/plain": [
       "Unnamed: 0    0\n",
       "StepCount     0\n",
       "Kcal          0\n",
       "Miles         0\n",
       "Weather       0\n",
       "Day           0\n",
       "Walk          0\n",
       "Steps         0\n",
       "dtype: int64"
      ]
     },
     "execution_count": 10,
     "metadata": {},
     "output_type": "execute_result"
    }
   ],
   "source": [
    "dp.isnull().sum()\n"
   ]
  },
  {
   "cell_type": "code",
   "execution_count": 11,
   "id": "5b6eba64",
   "metadata": {},
   "outputs": [
    {
     "data": {
      "text/plain": [
       "0"
      ]
     },
     "execution_count": 11,
     "metadata": {},
     "output_type": "execute_result"
    }
   ],
   "source": [
    "dp.duplicated().sum()"
   ]
  },
  {
   "cell_type": "code",
   "execution_count": 12,
   "id": "4385a83f",
   "metadata": {},
   "outputs": [
    {
     "data": {
      "text/plain": [
       "(223, 8)"
      ]
     },
     "execution_count": 12,
     "metadata": {},
     "output_type": "execute_result"
    }
   ],
   "source": [
    "dp.shape"
   ]
  },
  {
   "cell_type": "markdown",
   "id": "95bd3adf",
   "metadata": {},
   "source": [
    "# Data visualization"
   ]
  },
  {
   "cell_type": "code",
   "execution_count": 13,
   "id": "f7b874f0",
   "metadata": {
    "scrolled": false
   },
   "outputs": [
    {
     "data": {
      "text/plain": [
       "([<matplotlib.patches.Wedge at 0x1c8d14643d0>,\n",
       "  <matplotlib.patches.Wedge at 0x1c8d14642e0>,\n",
       "  <matplotlib.patches.Wedge at 0x1c8d1464b80>,\n",
       "  <matplotlib.patches.Wedge at 0x1c8d1465000>,\n",
       "  <matplotlib.patches.Wedge at 0x1c8d1465480>,\n",
       "  <matplotlib.patches.Wedge at 0x1c8d1465900>,\n",
       "  <matplotlib.patches.Wedge at 0x1c8d1465d80>,\n",
       "  <matplotlib.patches.Wedge at 0x1c8d1466200>,\n",
       "  <matplotlib.patches.Wedge at 0x1c8d1466680>,\n",
       "  <matplotlib.patches.Wedge at 0x1c8d1466b00>,\n",
       "  <matplotlib.patches.Wedge at 0x1c8d14643a0>,\n",
       "  <matplotlib.patches.Wedge at 0x1c8d14673d0>,\n",
       "  <matplotlib.patches.Wedge at 0x1c8d1467850>,\n",
       "  <matplotlib.patches.Wedge at 0x1c8d1467cd0>,\n",
       "  <matplotlib.patches.Wedge at 0x1c8d14b8190>,\n",
       "  <matplotlib.patches.Wedge at 0x1c8d14b8610>,\n",
       "  <matplotlib.patches.Wedge at 0x1c8d14b8970>,\n",
       "  <matplotlib.patches.Wedge at 0x1c8d14b8df0>,\n",
       "  <matplotlib.patches.Wedge at 0x1c8d14b9270>,\n",
       "  <matplotlib.patches.Wedge at 0x1c8d14b96f0>,\n",
       "  <matplotlib.patches.Wedge at 0x1c8d14b9b70>,\n",
       "  <matplotlib.patches.Wedge at 0x1c8d14b9ff0>,\n",
       "  <matplotlib.patches.Wedge at 0x1c8d14ba470>,\n",
       "  <matplotlib.patches.Wedge at 0x1c8d14ba8f0>,\n",
       "  <matplotlib.patches.Wedge at 0x1c8d14bad70>,\n",
       "  <matplotlib.patches.Wedge at 0x1c8d14bb1f0>,\n",
       "  <matplotlib.patches.Wedge at 0x1c8d14bb670>,\n",
       "  <matplotlib.patches.Wedge at 0x1c8d14bbaf0>,\n",
       "  <matplotlib.patches.Wedge at 0x1c8d14bbf70>,\n",
       "  <matplotlib.patches.Wedge at 0x1c8d14f4430>,\n",
       "  <matplotlib.patches.Wedge at 0x1c8d14f48b0>,\n",
       "  <matplotlib.patches.Wedge at 0x1c8d14f4d30>,\n",
       "  <matplotlib.patches.Wedge at 0x1c8d14f51b0>,\n",
       "  <matplotlib.patches.Wedge at 0x1c8d14f5630>,\n",
       "  <matplotlib.patches.Wedge at 0x1c8d14f5ab0>,\n",
       "  <matplotlib.patches.Wedge at 0x1c8d14f5f30>,\n",
       "  <matplotlib.patches.Wedge at 0x1c8d14f63b0>,\n",
       "  <matplotlib.patches.Wedge at 0x1c8d14f6830>,\n",
       "  <matplotlib.patches.Wedge at 0x1c8d14f6cb0>,\n",
       "  <matplotlib.patches.Wedge at 0x1c8d14f7130>,\n",
       "  <matplotlib.patches.Wedge at 0x1c8d14f75b0>,\n",
       "  <matplotlib.patches.Wedge at 0x1c8d14f7a30>,\n",
       "  <matplotlib.patches.Wedge at 0x1c8d14f7eb0>,\n",
       "  <matplotlib.patches.Wedge at 0x1c8d1538370>,\n",
       "  <matplotlib.patches.Wedge at 0x1c8d15387f0>,\n",
       "  <matplotlib.patches.Wedge at 0x1c8d1538c70>,\n",
       "  <matplotlib.patches.Wedge at 0x1c8d15390f0>,\n",
       "  <matplotlib.patches.Wedge at 0x1c8d1539570>,\n",
       "  <matplotlib.patches.Wedge at 0x1c8d15399f0>,\n",
       "  <matplotlib.patches.Wedge at 0x1c8d1539e70>,\n",
       "  <matplotlib.patches.Wedge at 0x1c8d153a2f0>,\n",
       "  <matplotlib.patches.Wedge at 0x1c8d153a770>,\n",
       "  <matplotlib.patches.Wedge at 0x1c8d153abf0>,\n",
       "  <matplotlib.patches.Wedge at 0x1c8d153b070>,\n",
       "  <matplotlib.patches.Wedge at 0x1c8d153b4f0>,\n",
       "  <matplotlib.patches.Wedge at 0x1c8d153b970>,\n",
       "  <matplotlib.patches.Wedge at 0x1c8d153bdf0>,\n",
       "  <matplotlib.patches.Wedge at 0x1c8d15702b0>,\n",
       "  <matplotlib.patches.Wedge at 0x1c8d1570730>,\n",
       "  <matplotlib.patches.Wedge at 0x1c8d1570bb0>,\n",
       "  <matplotlib.patches.Wedge at 0x1c8d1571030>,\n",
       "  <matplotlib.patches.Wedge at 0x1c8d15714b0>,\n",
       "  <matplotlib.patches.Wedge at 0x1c8d1571930>,\n",
       "  <matplotlib.patches.Wedge at 0x1c8d1571db0>,\n",
       "  <matplotlib.patches.Wedge at 0x1c8d1572230>,\n",
       "  <matplotlib.patches.Wedge at 0x1c8d15726b0>,\n",
       "  <matplotlib.patches.Wedge at 0x1c8d1572b30>,\n",
       "  <matplotlib.patches.Wedge at 0x1c8d1572fb0>,\n",
       "  <matplotlib.patches.Wedge at 0x1c8d1573430>,\n",
       "  <matplotlib.patches.Wedge at 0x1c8d15738b0>,\n",
       "  <matplotlib.patches.Wedge at 0x1c8d1573d30>,\n",
       "  <matplotlib.patches.Wedge at 0x1c8d15ac1f0>,\n",
       "  <matplotlib.patches.Wedge at 0x1c8d15ac670>,\n",
       "  <matplotlib.patches.Wedge at 0x1c8d15acaf0>,\n",
       "  <matplotlib.patches.Wedge at 0x1c8d15acf70>,\n",
       "  <matplotlib.patches.Wedge at 0x1c8d15ad3f0>,\n",
       "  <matplotlib.patches.Wedge at 0x1c8d15ad870>,\n",
       "  <matplotlib.patches.Wedge at 0x1c8d15adcf0>,\n",
       "  <matplotlib.patches.Wedge at 0x1c8d15ae170>,\n",
       "  <matplotlib.patches.Wedge at 0x1c8d15ae5f0>,\n",
       "  <matplotlib.patches.Wedge at 0x1c8d15aeaa0>,\n",
       "  <matplotlib.patches.Wedge at 0x1c8d15aef20>,\n",
       "  <matplotlib.patches.Wedge at 0x1c8d15af3a0>,\n",
       "  <matplotlib.patches.Wedge at 0x1c8d15af820>,\n",
       "  <matplotlib.patches.Wedge at 0x1c8d15afca0>,\n",
       "  <matplotlib.patches.Wedge at 0x1c8d15e0160>,\n",
       "  <matplotlib.patches.Wedge at 0x1c8d15e05e0>,\n",
       "  <matplotlib.patches.Wedge at 0x1c8d15e0a60>,\n",
       "  <matplotlib.patches.Wedge at 0x1c8d15e0ee0>,\n",
       "  <matplotlib.patches.Wedge at 0x1c8d15e1360>,\n",
       "  <matplotlib.patches.Wedge at 0x1c8d15e17e0>,\n",
       "  <matplotlib.patches.Wedge at 0x1c8d15e1c60>,\n",
       "  <matplotlib.patches.Wedge at 0x1c8d15e20e0>,\n",
       "  <matplotlib.patches.Wedge at 0x1c8d15e2560>,\n",
       "  <matplotlib.patches.Wedge at 0x1c8d15e29e0>,\n",
       "  <matplotlib.patches.Wedge at 0x1c8d15e2e60>,\n",
       "  <matplotlib.patches.Wedge at 0x1c8d15e32e0>,\n",
       "  <matplotlib.patches.Wedge at 0x1c8d15e3760>,\n",
       "  <matplotlib.patches.Wedge at 0x1c8d15e3be0>,\n",
       "  <matplotlib.patches.Wedge at 0x1c8d16240a0>,\n",
       "  <matplotlib.patches.Wedge at 0x1c8d1624520>,\n",
       "  <matplotlib.patches.Wedge at 0x1c8d16249a0>,\n",
       "  <matplotlib.patches.Wedge at 0x1c8d1624e20>,\n",
       "  <matplotlib.patches.Wedge at 0x1c8d16252a0>,\n",
       "  <matplotlib.patches.Wedge at 0x1c8d1625720>,\n",
       "  <matplotlib.patches.Wedge at 0x1c8d1625ba0>,\n",
       "  <matplotlib.patches.Wedge at 0x1c8d1626020>,\n",
       "  <matplotlib.patches.Wedge at 0x1c8d16264a0>,\n",
       "  <matplotlib.patches.Wedge at 0x1c8d1626920>,\n",
       "  <matplotlib.patches.Wedge at 0x1c8d1626da0>,\n",
       "  <matplotlib.patches.Wedge at 0x1c8d1627220>,\n",
       "  <matplotlib.patches.Wedge at 0x1c8d16276a0>,\n",
       "  <matplotlib.patches.Wedge at 0x1c8d1627b20>,\n",
       "  <matplotlib.patches.Wedge at 0x1c8d1627fa0>,\n",
       "  <matplotlib.patches.Wedge at 0x1c8d1660460>,\n",
       "  <matplotlib.patches.Wedge at 0x1c8d16608e0>,\n",
       "  <matplotlib.patches.Wedge at 0x1c8d1660d60>,\n",
       "  <matplotlib.patches.Wedge at 0x1c8d16611e0>,\n",
       "  <matplotlib.patches.Wedge at 0x1c8d1661660>,\n",
       "  <matplotlib.patches.Wedge at 0x1c8d1661ae0>,\n",
       "  <matplotlib.patches.Wedge at 0x1c8d1661f60>,\n",
       "  <matplotlib.patches.Wedge at 0x1c8d16623e0>,\n",
       "  <matplotlib.patches.Wedge at 0x1c8d1662860>,\n",
       "  <matplotlib.patches.Wedge at 0x1c8d1662ce0>,\n",
       "  <matplotlib.patches.Wedge at 0x1c8d1663160>,\n",
       "  <matplotlib.patches.Wedge at 0x1c8d16635e0>,\n",
       "  <matplotlib.patches.Wedge at 0x1c8d1663a60>,\n",
       "  <matplotlib.patches.Wedge at 0x1c8d1663ee0>,\n",
       "  <matplotlib.patches.Wedge at 0x1c8d169c3d0>,\n",
       "  <matplotlib.patches.Wedge at 0x1c8d169c850>,\n",
       "  <matplotlib.patches.Wedge at 0x1c8d169ccd0>,\n",
       "  <matplotlib.patches.Wedge at 0x1c8d169d150>,\n",
       "  <matplotlib.patches.Wedge at 0x1c8d169d5d0>,\n",
       "  <matplotlib.patches.Wedge at 0x1c8d169da50>,\n",
       "  <matplotlib.patches.Wedge at 0x1c8d169ded0>,\n",
       "  <matplotlib.patches.Wedge at 0x1c8d169e350>,\n",
       "  <matplotlib.patches.Wedge at 0x1c8d169e7d0>,\n",
       "  <matplotlib.patches.Wedge at 0x1c8d169ec50>,\n",
       "  <matplotlib.patches.Wedge at 0x1c8d169f0d0>,\n",
       "  <matplotlib.patches.Wedge at 0x1c8d169f550>,\n",
       "  <matplotlib.patches.Wedge at 0x1c8d169fa00>,\n",
       "  <matplotlib.patches.Wedge at 0x1c8d169fe80>,\n",
       "  <matplotlib.patches.Wedge at 0x1c8d16d4340>,\n",
       "  <matplotlib.patches.Wedge at 0x1c8d16d47c0>,\n",
       "  <matplotlib.patches.Wedge at 0x1c8d16d4c40>,\n",
       "  <matplotlib.patches.Wedge at 0x1c8d16d50c0>,\n",
       "  <matplotlib.patches.Wedge at 0x1c8d16d5540>,\n",
       "  <matplotlib.patches.Wedge at 0x1c8d16d59c0>,\n",
       "  <matplotlib.patches.Wedge at 0x1c8d16d5e40>,\n",
       "  <matplotlib.patches.Wedge at 0x1c8d16d62c0>,\n",
       "  <matplotlib.patches.Wedge at 0x1c8d16d6740>,\n",
       "  <matplotlib.patches.Wedge at 0x1c8d16d6bc0>,\n",
       "  <matplotlib.patches.Wedge at 0x1c8d16d7040>,\n",
       "  <matplotlib.patches.Wedge at 0x1c8d16d74c0>,\n",
       "  <matplotlib.patches.Wedge at 0x1c8d16d7940>,\n",
       "  <matplotlib.patches.Wedge at 0x1c8d16d7dc0>,\n",
       "  <matplotlib.patches.Wedge at 0x1c8d1714280>,\n",
       "  <matplotlib.patches.Wedge at 0x1c8d1714700>,\n",
       "  <matplotlib.patches.Wedge at 0x1c8d1714b80>,\n",
       "  <matplotlib.patches.Wedge at 0x1c8d1715000>,\n",
       "  <matplotlib.patches.Wedge at 0x1c8d1715480>,\n",
       "  <matplotlib.patches.Wedge at 0x1c8d1715900>,\n",
       "  <matplotlib.patches.Wedge at 0x1c8d1715d80>,\n",
       "  <matplotlib.patches.Wedge at 0x1c8d1716200>,\n",
       "  <matplotlib.patches.Wedge at 0x1c8d17166b0>,\n",
       "  <matplotlib.patches.Wedge at 0x1c8d1716b30>,\n",
       "  <matplotlib.patches.Wedge at 0x1c8d1716fb0>,\n",
       "  <matplotlib.patches.Wedge at 0x1c8d1717430>,\n",
       "  <matplotlib.patches.Wedge at 0x1c8d17178b0>,\n",
       "  <matplotlib.patches.Wedge at 0x1c8d1717d30>,\n",
       "  <matplotlib.patches.Wedge at 0x1c8d174c220>,\n",
       "  <matplotlib.patches.Wedge at 0x1c8d174c6a0>,\n",
       "  <matplotlib.patches.Wedge at 0x1c8d174cb20>,\n",
       "  <matplotlib.patches.Wedge at 0x1c8d174cfa0>,\n",
       "  <matplotlib.patches.Wedge at 0x1c8d174d420>,\n",
       "  <matplotlib.patches.Wedge at 0x1c8d174d8a0>,\n",
       "  <matplotlib.patches.Wedge at 0x1c8d174dd20>,\n",
       "  <matplotlib.patches.Wedge at 0x1c8d174e1a0>,\n",
       "  <matplotlib.patches.Wedge at 0x1c8d174e620>,\n",
       "  <matplotlib.patches.Wedge at 0x1c8d174eaa0>,\n",
       "  <matplotlib.patches.Wedge at 0x1c8d174ef20>,\n",
       "  <matplotlib.patches.Wedge at 0x1c8d174f3a0>,\n",
       "  <matplotlib.patches.Wedge at 0x1c8d174f820>,\n",
       "  <matplotlib.patches.Wedge at 0x1c8d174fca0>,\n",
       "  <matplotlib.patches.Wedge at 0x1c8d1780160>,\n",
       "  <matplotlib.patches.Wedge at 0x1c8d17805e0>,\n",
       "  <matplotlib.patches.Wedge at 0x1c8d1780a60>,\n",
       "  <matplotlib.patches.Wedge at 0x1c8d1780ee0>,\n",
       "  <matplotlib.patches.Wedge at 0x1c8d1781360>,\n",
       "  <matplotlib.patches.Wedge at 0x1c8d17817e0>,\n",
       "  <matplotlib.patches.Wedge at 0x1c8d1781c60>,\n",
       "  <matplotlib.patches.Wedge at 0x1c8d17820e0>,\n",
       "  <matplotlib.patches.Wedge at 0x1c8d1782560>,\n",
       "  <matplotlib.patches.Wedge at 0x1c8d17829e0>,\n",
       "  <matplotlib.patches.Wedge at 0x1c8d1782e60>,\n",
       "  <matplotlib.patches.Wedge at 0x1c8d17832e0>,\n",
       "  <matplotlib.patches.Wedge at 0x1c8d1783760>,\n",
       "  <matplotlib.patches.Wedge at 0x1c8d1783be0>,\n",
       "  <matplotlib.patches.Wedge at 0x1c8d17c00a0>,\n",
       "  <matplotlib.patches.Wedge at 0x1c8d17c0520>,\n",
       "  <matplotlib.patches.Wedge at 0x1c8d17c09a0>,\n",
       "  <matplotlib.patches.Wedge at 0x1c8d17c0e20>,\n",
       "  <matplotlib.patches.Wedge at 0x1c8d17c12a0>,\n",
       "  <matplotlib.patches.Wedge at 0x1c8d17c1720>,\n",
       "  <matplotlib.patches.Wedge at 0x1c8d17c1ba0>,\n",
       "  <matplotlib.patches.Wedge at 0x1c8d17c2050>,\n",
       "  <matplotlib.patches.Wedge at 0x1c8d17c24d0>,\n",
       "  <matplotlib.patches.Wedge at 0x1c8d17c2950>,\n",
       "  <matplotlib.patches.Wedge at 0x1c8d17c2dd0>,\n",
       "  <matplotlib.patches.Wedge at 0x1c8d17c3250>,\n",
       "  <matplotlib.patches.Wedge at 0x1c8d17c36d0>,\n",
       "  <matplotlib.patches.Wedge at 0x1c8d17c3b50>,\n",
       "  <matplotlib.patches.Wedge at 0x1c8d17c3fd0>,\n",
       "  <matplotlib.patches.Wedge at 0x1c8d17fc490>,\n",
       "  <matplotlib.patches.Wedge at 0x1c8d17fc910>,\n",
       "  <matplotlib.patches.Wedge at 0x1c8d17fcd90>,\n",
       "  <matplotlib.patches.Wedge at 0x1c8d17fd210>,\n",
       "  <matplotlib.patches.Wedge at 0x1c8d17fd690>,\n",
       "  <matplotlib.patches.Wedge at 0x1c8d17fdb10>,\n",
       "  <matplotlib.patches.Wedge at 0x1c8d17fdf90>,\n",
       "  <matplotlib.patches.Wedge at 0x1c8d17fe410>],\n",
       " [Text(1.0995633997174314, 0.030989191693942333, ''),\n",
       "  Text(1.0960726766705617, 0.09286919541069778, ''),\n",
       "  Text(1.091170097920116, 0.1390964320354933, ''),\n",
       "  Text(1.086818378675231, 0.16978165912059637, ''),\n",
       "  Text(1.0816039226826546, 0.200332110350523, ''),\n",
       "  Text(1.0755308692750412, 0.23072353420592862, ''),\n",
       "  Text(1.068604039355725, 0.2609318054063715, ''),\n",
       "  Text(1.0608289315717967, 0.2909329440614117, ''),\n",
       "  Text(1.0522117179491757, 0.32070313470629597, ''),\n",
       "  Text(1.0427592389931393, 0.3502187452071196, ''),\n",
       "  Text(1.032478998258202, 0.3794563455204556, ''),\n",
       "  Text(1.0213791563916552, 0.4083927262925614, ''),\n",
       "  Text(1.0094685246554898, 0.43700491728339763, ''),\n",
       "  Text(0.996756557931854, 0.4652702056008344, ''),\n",
       "  Text(0.9832533472175911, 0.49316615373056927, ''),\n",
       "  Text(0.9689696116138162, 0.5206706173474459, ''),\n",
       "  Text(0.9539166898168941, 0.5477617628940336, ''),\n",
       "  Text(0.9381065311175708, 0.5744180849125124, ''),\n",
       "  Text(0.9215516859154014, 0.6006184231161092, ''),\n",
       "  Text(0.9042652957560098, 0.6263419791865272, ''),\n",
       "  Text(0.8862610828990839, 0.6515683332840411, ''),\n",
       "  Text(0.8675533394253887, 0.6762774602571466, ''),\n",
       "  Text(0.8481569158914455, 0.7004497455389014, ''),\n",
       "  Text(0.8280872095408829, 0.7240660007173337, ''),\n",
       "  Text(0.8073601520818171, 0.7471074787675634, ''),\n",
       "  Text(0.785992197039963, 0.7695558889335408, ''),\n",
       "  Text(0.7640003066975194, 0.7913934112475896, ''),\n",
       "  Text(0.7414019386281913, 0.812602710676232, ''),\n",
       "  Text(0.7182150318390415, 0.8331669508810613, ''),\n",
       "  Text(0.6944579925301719, 0.8530698075837428, ''),\n",
       "  Text(0.6701496794835375, 0.8722954815245303, ''),\n",
       "  Text(0.6453093890924929, 0.8908287110040144, ''),\n",
       "  Text(0.619956840043954, 0.9086547839981449, ''),\n",
       "  Text(0.5941121576653361, 0.9257595498369104, ''),\n",
       "  Text(0.5677958579486926, 0.9421294304374046, ''),\n",
       "  Text(0.5410288312647371, 0.9577514310823623, ''),\n",
       "  Text(0.5138323257796763, 0.9726131507356092, ''),\n",
       "  Text(0.486227930588019, 0.986702791886236, ''),\n",
       "  Text(0.458237558574748, 1.0000091699136837, ''),\n",
       "  Text(0.4298834290204639, 1.0125217219663032, ''),\n",
       "  Text(0.40118804996330365, 1.0242305153463462, ''),\n",
       "  Text(0.3721742003316397, 1.0351262553947247, ''),\n",
       "  Text(0.3428649118617403, 1.045200292869286, ''),\n",
       "  Text(0.31328345081474696, 1.0544446308107431, ''),\n",
       "  Text(0.2834532995074816, 1.0628519308908095, ''),\n",
       "  Text(0.2533981376717434, 1.0704155192375027, ''),\n",
       "  Text(0.22314182365689647, 1.077129391732987, ''),\n",
       "  Text(0.19270837549066508, 1.0829882187797562, ''),\n",
       "  Text(0.16212195181317454, 1.087987349531366, ''),\n",
       "  Text(0.13140683269937095, 1.0921228155843645, ''),\n",
       "  Text(0.10058740038504375, 1.0953913341284836, ''),\n",
       "  Text(0.06968811991175146, 1.0977903105525961, ''),\n",
       "  Text(0.03873351970601324, 1.0993178405043667, ''),\n",
       "  Text(0.007748172108186788, 1.099972711401961, ''),\n",
       "  Text(-0.0232433261335157, 1.099754403396618, ''),\n",
       "  Text(-0.05421637338838597, 1.0986630897853134, ''),\n",
       "  Text(-0.08514638267245404, 1.0966996368731943, ''),\n",
       "  Text(-0.11600880116609578, 1.0938656032858907, ''),\n",
       "  Text(-0.14677912970451995, 1.0901632387322477, ''),\n",
       "  Text(-0.17743294222566405, 1.0855954822184664, ''),\n",
       "  Text(-0.20794590516005784, 1.0801659597150635, ''),\n",
       "  Text(-0.23829379674726647, 1.073878981278511, ''),\n",
       "  Text(-0.26845252626357663, 1.06673953762983, ''),\n",
       "  Text(-0.29839815314566326, 1.0587532961928654, ''),\n",
       "  Text(-0.3281069059950567, 1.0499265965953768, ''),\n",
       "  Text(-0.3575552014483224, 1.0402664456365254, ''),\n",
       "  Text(-0.3867196628979771, 1.0297805117247438, ''),\n",
       "  Text(-0.4155771390492754, 1.0184771187904123, ''),\n",
       "  Text(-0.4441047222981411, 1.0063652396781655, ''),\n",
       "  Text(-0.4722797669156516, 0.9934544890240811, ''),\n",
       "  Text(-0.5000799070246408, 0.9797551156234026, ''),\n",
       "  Text(-0.5274830743541503, 0.965277994294853, ''),\n",
       "  Text(-0.554467515757636, 0.9500346172480011, ''),\n",
       "  Text(-0.5810118104810221, 0.9340370849605304, ''),\n",
       "  Text(-0.607094887166896, 0.9172980965726539, ''),\n",
       "  Text(-0.6326960405813464, 0.899830939806299, ''),\n",
       "  Text(-0.6577949480501641, 0.8816494804170658, ''),\n",
       "  Text(-0.6823716855913626, 0.8627681511873295, ''),\n",
       "  Text(-0.7064067437312049, 0.8432019404692306, ''),\n",
       "  Text(-0.7298810429911903, 0.8229663802866387, ''),\n",
       "  Text(-0.7527759490337004, 0.8020775340055424, ''),\n",
       "  Text(-0.7750732874542854, 0.7805519835826483, ''),\n",
       "  Text(-0.7967553582088452, 0.7584068164023151, ''),\n",
       "  Text(-0.8178049496642561, 0.7356596117122671, ''),\n",
       "  Text(-0.8382053522612865, 0.7123284266688596, ''),\n",
       "  Text(-0.8579403717789573, 0.68843178200297, ''),\n",
       "  Text(-0.876994342189818, 0.6639886473178954, ''),\n",
       "  Text(-0.8953521380959314, 0.6390184260309277, ''),\n",
       "  Text(-0.9129991867356976, 0.6135409399705574, ''),\n",
       "  Text(-0.9299214795519845, 0.5875764136415351, ''),\n",
       "  Text(-0.9461055833123821, 0.5611454581702833, ''),\n",
       "  Text(-0.9615386507727551, 0.5342690549433963, ''),\n",
       "  Text(-0.9762084308756229, 0.5069685389522258, ''),\n",
       "  Text(-0.9901032784752796, 0.4792655818567647, ''),\n",
       "  Text(-1.0032121635819284, 0.4511821747822781, ''),\n",
       "  Text(-1.0155246801174937, 0.42274061086233733, ''),\n",
       "  Text(-1.0270310541761598, 0.39396346754211353, ''),\n",
       "  Text(-1.0377221517830806, 0.3648735886559797, ''),\n",
       "  Text(-1.0475894861450996, 0.33549406629364764, ''),\n",
       "  Text(-1.0566252243877243, 0.30584822246923593, ''),\n",
       "  Text(-1.0648221937730098, 0.27595959060781844, ''),\n",
       "  Text(-1.0721738873934108, 0.2458518968641522, ''),\n",
       "  Text(-1.0786744693370873, 0.2155490412884116, ''),\n",
       "  Text(-1.0843187793205602, 0.1850750788538821, ''),\n",
       "  Text(-1.0891023367850408, 0.15445420036167312, ''),\n",
       "  Text(-1.0930213444531827, 0.12371071323760585, ''),\n",
       "  Text(-1.0960726913434307, 0.09286902223652715, ''),\n",
       "  Text(-1.0982539552395767, 0.06195361006935695, ''),\n",
       "  Text(-1.0995634046135598, 0.030989017968255074, ''),\n",
       "  Text(-1.0999999999999863, -1.7379466763352263e-07, ''),\n",
       "  Text(-1.0995633948212757, -0.030989365419628885, ''),\n",
       "  Text(-1.0982539356627818, -0.061953957106955906, ''),\n",
       "  Text(-1.0960726619976653, -0.09286936858486632, ''),\n",
       "  Text(-1.0930213053617421, -0.12371105862174744, ''),\n",
       "  Text(-1.0891022879789565, -0.15445454450744475, ''),\n",
       "  Text(-1.0843187208385754, -0.18507542148809492, ''),\n",
       "  Text(-1.0786744012256262, -0.21554938213907565, ''),\n",
       "  Text(-1.0721738097065414, -0.24585223566069386, ''),\n",
       "  Text(-1.0648221065724015, -0.27595992708129424, ''),\n",
       "  Text(-1.0566251277425986, -0.3058485563525474, ''),\n",
       "  Text(-1.047589380132175, -0.33549439732175196, ''),\n",
       "  Text(-1.0377220364865123, -0.3648739165661005, ''),\n",
       "  Text(-1.0270309296874724, -0.3939637920739497, ''),\n",
       "  Text(-1.0155245465355087, -0.42274093175826943, ''),\n",
       "  Text(-1.0032120210126856, -0.4511824917875729, ''),\n",
       "  Text(-0.9901031270319528, -0.47926589471977754, ''),\n",
       "  Text(-0.976208270678431, -0.5069688474246001, ''),\n",
       "  Text(-0.9615384819488656, -0.5342693587802609, ''),\n",
       "  Text(-0.9461054059958107, -0.5611457571304469, ''),\n",
       "  Text(-0.9299212938834878, -0.587576707487678, ''),\n",
       "  Text(-0.9129989928626632, -0.6135412284694184, ''),\n",
       "  Text(-0.8953519361722592, -0.6390187089534913, ''),\n",
       "  Text(-0.8769941323757992, -0.6639889244395718, ''),\n",
       "  Text(-0.8579401542411458, -0.6884320531037751, ''),\n",
       "  Text(-0.8382051271723678, -0.7123286915335888, ''),\n",
       "  Text(-0.8178047172029104, -0.7356598701306658, ''),\n",
       "  Text(-0.7967551185596043, -0.7584070681692456, ''),\n",
       "  Text(-0.7750730408073875, -0.7805522284982537, ''),\n",
       "  Text(-0.7527756955849384, -0.8020777718754039, ''),\n",
       "  Text(-0.7298807829417565, -0.8229666109219309, ''),\n",
       "  Text(-0.7064064772875318, -0.8432021636868704, ''),\n",
       "  Text(-0.682371412964958, -0.862768366810123, ''),\n",
       "  Text(-0.6577946694574437, -0.8816496882738475, ''),\n",
       "  Text(-0.6326957562434619, -0.8998311397320689, ''),\n",
       "  Text(-0.6070945973095606, -0.9172982884087066, ''),\n",
       "  Text(-0.5810115153343298, -0.9340372685545828, ''),\n",
       "  Text(-0.5544672155558801, -0.9500347924543129, ''),\n",
       "  Text(-0.5274827693356363, -0.9652781609743423, ''),\n",
       "  Text(-0.5000795974314982, -0.9797552736437559, ''),\n",
       "  Text(-0.4722794529936412, -0.9934546382598589, ''),\n",
       "  Text(-0.4441044042964601, -1.0063653800109018, ''),\n",
       "  Text(-0.41557681722035944, -1.0184772501087083, ''),\n",
       "  Text(-0.3867193374973001, -1.0297806339243565, ''),\n",
       "  Text(-0.35755487273419334, -1.0402665586204505, ''),\n",
       "  Text(-0.3281065742284148, -1.0499267002739257, ''),\n",
       "  Text(-0.29839781858987136, -1.058753390483736, ''),\n",
       "  Text(-0.2684521891842114, -1.0667396224581727, ''),\n",
       "  Text(-0.23829345741190774, -1.073879056576987, ''),\n",
       "  Text(-0.20794556383807639, -1.0801660254238996, ''),\n",
       "  Text(-0.17743259918800763, -1.0855955382855016, ''),\n",
       "  Text(-0.14677878522349827, -1.0901632851129754, ''),\n",
       "  Text(-0.11600845551516412, -1.0938656399434925, ''),\n",
       "  Text(-0.08514603612599678, -1.096699663778571, ''),\n",
       "  Text(-0.054216026221498174, -1.0986631069171067, ''),\n",
       "  Text(-0.02324297862178493, -1.099754410741229, ''),\n",
       "  Text(0.007748519688899225, -1.099972708953559, ''),\n",
       "  Text(0.038733867079791276, -1.099317828264895, ''),\n",
       "  Text(0.06968846680284234, -1.0977902885317712, ''),\n",
       "  Text(0.10058774651808002, -1.0953913023437856, ''),\n",
       "  Text(0.1314071777995855, -1.0921227740610249, ''),\n",
       "  Text(0.1621222956066204, -1.0879872983023469, ''),\n",
       "  Text(0.19270871770443257, -1.082988157885724, ''),\n",
       "  Text(0.2231421640193299, -1.0771293212222803, ''),\n",
       "  Text(0.2533984759126567, -1.0704154391660945, ''),\n",
       "  Text(0.2834536353583728, -1.062851841322262, ''),\n",
       "  Text(0.3132837840090116, -1.0544445318161573, ''),\n",
       "  Text(0.34286524213488223, -1.0452001845272458, ''),\n",
       "  Text(0.372174527421482, -1.035126137791234, ''),\n",
       "  Text(0.4011883736101964, -1.024230388574761, ''),\n",
       "  Text(0.42988374896748993, -1.012521586127257, ''),\n",
       "  Text(0.45823787456792753, -1.000009025115008, ''),\n",
       "  Text(0.48622824237651063, -0.9867026382428747, ''),\n",
       "  Text(0.5138326331159768, -0.9726129883695273, ''),\n",
       "  Text(0.5410291339048768, -0.957751260122449, ''),\n",
       "  Text(0.5677961556524304, -0.9421292510193712, ''),\n",
       "  Text(0.594112450196349, -0.9257593621031823, ''),\n",
       "  Text(0.6199571271700255, -0.9086545880977486, ''),\n",
       "  Text(0.645309670585697, -0.8908285070924592, ''),\n",
       "  Text(0.6701499551204195, -0.872295269763685, ''),\n",
       "  Text(0.694458262091926, -0.8530695881417072, ''),\n",
       "  Text(0.7182152951116847, -0.8331667239320326, ''),\n",
       "  Text(0.7414021954027328, -0.8126024764003665, ''),\n",
       "  Text(0.7640005567701268, -0.7913931698308599, ''),\n",
       "  Text(0.7859924402121241, -0.7695556405675881, ''),\n",
       "  Text(0.8073603881604969, -0.7471072236495453, ''),\n",
       "  Text(0.8280874383386783, -0.7240657390497673, ''),\n",
       "  Text(0.8481571372267315, -0.7004494775295044, ''),\n",
       "  Text(0.867553553122466, -0.6762771861186689, ''),\n",
       "  Text(0.8862612887883158, -0.6515680532340989, ''),\n",
       "  Text(0.9042654936739575, -0.6263416934474298, ''),\n",
       "  Text(0.9215518757049538, -0.6006181319146815, ''),\n",
       "  Text(0.9381067126280696, -0.5744177884799154, ''),\n",
       "  Text(0.9539168629042529, -0.5477614614655808, ''),\n",
       "  Text(0.9689697761406348, -0.5206703111624171, ''),\n",
       "  Text(0.9832535030532653, -0.49316584303201977, ''),\n",
       "  Text(0.9967567049526784, -0.46526989063540264, ''),\n",
       "  Text(1.0094686627447564, -0.43700459830110905, ''),\n",
       "  Text(1.021379285439746, -0.40839240354663003, ''),\n",
       "  Text(1.032479118162677, -0.3794560192670833, ''),\n",
       "  Text(1.0427593496588152, -0.3502184157052923, ''),\n",
       "  Text(1.0522118192882044, -0.32070280221757835, ''),\n",
       "  Text(1.0608290235037334, -0.29093260884973954, ''),\n",
       "  Text(1.0686041218075923, -0.2609314677378422, ''),\n",
       "  Text(1.0755309421813875, -0.2307231943485897, ''),\n",
       "  Text(1.0816039859856053, -0.20033176857415955, ''),\n",
       "  Text(1.086818432324535, -0.16978131569651683, ''),\n",
       "  Text(1.0911701418731856, -0.13909608723631423, ''),\n",
       "  Text(1.0946556601631594, -0.10830044170158151, ''),\n",
       "  Text(1.0972722203248746, -0.07741882525148662, ''),\n",
       "  Text(1.0990177452839562, -0.046475752290517335, ''),\n",
       "  Text(1.0998908494100583, -0.015495786008488737, '')])"
      ]
     },
     "execution_count": 13,
     "metadata": {},
     "output_type": "execute_result"
    },
    {
     "data": {
      "image/png": "[encoded data removed]",
      "text/plain": [
       "<Figure size 640x480 with 1 Axes>"
      ]
     },
     "metadata": {},
     "output_type": "display_data"
    }
   ],
   "source": [
    "plt.pie(dp[\"Steps\"].value_counts())"
   ]
  },
  {
   "cell_type": "code",
   "execution_count": 14,
   "id": "b89724a4",
   "metadata": {},
   "outputs": [
    {
     "name": "stderr",
     "output_type": "stream",
     "text": [
      "C:\\Users\\kaust\\AppData\\Local\\Temp\\ipykernel_28428\\3302357446.py:2: UserWarning: Ignoring `palette` because no `hue` variable has been assigned.\n",
      "  sns.lineplot(dp,x=\"Day\", y=\"Steps\", palette=\"rainbow\")\n"
     ]
    },
    {
     "data": {
      "text/plain": [
       "<Axes: xlabel='Day', ylabel='Steps'>"
      ]
     },
     "execution_count": 14,
     "metadata": {},
     "output_type": "execute_result"
    },
    {
     "data": {
      "image/png": "[encoded data removed]",
      "text/plain": [
       "<Figure size 2000x1000 with 1 Axes>"
      ]
     },
     "metadata": {},
     "output_type": "display_data"
    }
   ],
   "source": [
    "plt.subplots(figsize=(20,10))\n",
    "sns.lineplot(dp,x=\"Day\", y=\"Steps\", palette=\"rainbow\")"
   ]
  },
  {
   "cell_type": "code",
   "execution_count": 15,
   "id": "97ceff8f",
   "metadata": {},
   "outputs": [
    {
     "data": {
      "text/plain": [
       "<Axes: xlabel='Day', ylabel='Steps'>"
      ]
     },
     "execution_count": 15,
     "metadata": {},
     "output_type": "execute_result"
    },
    {
     "data": {
      "image/png": "[encoded data removed]",
      "text/plain": [
       "<Figure size 640x480 with 1 Axes>"
      ]
     },
     "metadata": {},
     "output_type": "display_data"
    }
   ],
   "source": [
    "sns.boxplot(x='Day',y='Steps', palette='muted', data=dp)"
   ]
  },
  {
   "cell_type": "code",
   "execution_count": 16,
   "id": "d540e99e",
   "metadata": {},
   "outputs": [
    {
     "name": "stderr",
     "output_type": "stream",
     "text": [
      "C:\\Users\\kaust\\AppData\\Local\\Temp\\ipykernel_28428\\3851692157.py:1: UserWarning: Ignoring `palette` because no `hue` variable has been assigned.\n",
      "  sns.histplot(x=\"Day\",y=\"Steps\", palette=\"Dark\", data=dp)\n"
     ]
    },
    {
     "data": {
      "text/plain": [
       "<Axes: xlabel='Day', ylabel='Steps'>"
      ]
     },
     "execution_count": 16,
     "metadata": {},
     "output_type": "execute_result"
    },
    {
     "data": {
      "image/png": "[encoded data removed]",
      "text/plain": [
       "<Figure size 640x480 with 1 Axes>"
      ]
     },
     "metadata": {},
     "output_type": "display_data"
    }
   ],
   "source": [
    "sns.histplot(x=\"Day\",y=\"Steps\", palette=\"Dark\", data=dp)"
   ]
  },
  {
   "cell_type": "code",
   "execution_count": 17,
   "id": "4365d422",
   "metadata": {},
   "outputs": [
    {
     "name": "stderr",
     "output_type": "stream",
     "text": [
      "C:\\Users\\kaust\\AppData\\Local\\Temp\\ipykernel_28428\\3204093078.py:1: UserWarning: Ignoring `palette` because no `hue` variable has been assigned.\n",
      "  sns.scatterplot(data=dp,x=\"Day\",y=\"Steps\",palette=\"dark\")\n"
     ]
    },
    {
     "data": {
      "text/plain": [
       "<Axes: xlabel='Day', ylabel='Steps'>"
      ]
     },
     "execution_count": 17,
     "metadata": {},
     "output_type": "execute_result"
    },
    {
     "data": {
      "image/png": "[encoded data removed]",
      "text/plain": [
       "<Figure size 640x480 with 1 Axes>"
      ]
     },
     "metadata": {},
     "output_type": "display_data"
    }
   ],
   "source": [
    "sns.scatterplot(data=dp,x=\"Day\",y=\"Steps\",palette=\"dark\")"
   ]
  },
  {
   "cell_type": "code",
   "execution_count": 18,
   "id": "493f8926",
   "metadata": {},
   "outputs": [
    {
     "name": "stderr",
     "output_type": "stream",
     "text": [
      "C:\\Users\\kaust\\AppData\\Local\\Temp\\ipykernel_28428\\3894163102.py:1: FutureWarning: The default value of numeric_only in DataFrame.corr is deprecated. In a future version, it will default to False. Select only valid columns or specify the value of numeric_only to silence this warning.\n",
      "  corr_mat=dp.corr()\n"
     ]
    }
   ],
   "source": [
    "corr_mat=dp.corr()"
   ]
  },
  {
   "cell_type": "code",
   "execution_count": 19,
   "id": "ab9c9c5c",
   "metadata": {},
   "outputs": [
    {
     "data": {
      "text/html": [
       "<div>\n",
       "<style scoped>\n",
       "    .dataframe tbody tr th:only-of-type {\n",
       "        vertical-align: middle;\n",
       "    }\n",
       "\n",
       "    .dataframe tbody tr th {\n",
       "        vertical-align: top;\n",
       "    }\n",
       "\n",
       "    .dataframe thead th {\n",
       "        text-align: right;\n",
       "    }\n",
       "</style>\n",
       "<table border=\"1\" class=\"dataframe\">\n",
       "  <thead>\n",
       "    <tr style=\"text-align: right;\">\n",
       "      <th></th>\n",
       "      <th>Unnamed: 0</th>\n",
       "      <th>StepCount</th>\n",
       "      <th>Kcal</th>\n",
       "      <th>Miles</th>\n",
       "      <th>Walk</th>\n",
       "      <th>Steps</th>\n",
       "    </tr>\n",
       "  </thead>\n",
       "  <tbody>\n",
       "    <tr>\n",
       "      <th>Unnamed: 0</th>\n",
       "      <td>1.000000</td>\n",
       "      <td>-0.108136</td>\n",
       "      <td>-0.079658</td>\n",
       "      <td>-0.106302</td>\n",
       "      <td>0.239676</td>\n",
       "      <td>-0.108136</td>\n",
       "    </tr>\n",
       "    <tr>\n",
       "      <th>StepCount</th>\n",
       "      <td>-0.108136</td>\n",
       "      <td>1.000000</td>\n",
       "      <td>0.905894</td>\n",
       "      <td>0.999549</td>\n",
       "      <td>0.231460</td>\n",
       "      <td>1.000000</td>\n",
       "    </tr>\n",
       "    <tr>\n",
       "      <th>Kcal</th>\n",
       "      <td>-0.079658</td>\n",
       "      <td>0.905894</td>\n",
       "      <td>1.000000</td>\n",
       "      <td>0.904287</td>\n",
       "      <td>0.342689</td>\n",
       "      <td>0.905894</td>\n",
       "    </tr>\n",
       "    <tr>\n",
       "      <th>Miles</th>\n",
       "      <td>-0.106302</td>\n",
       "      <td>0.999549</td>\n",
       "      <td>0.904287</td>\n",
       "      <td>1.000000</td>\n",
       "      <td>0.233232</td>\n",
       "      <td>0.999549</td>\n",
       "    </tr>\n",
       "    <tr>\n",
       "      <th>Walk</th>\n",
       "      <td>0.239676</td>\n",
       "      <td>0.231460</td>\n",
       "      <td>0.342689</td>\n",
       "      <td>0.233232</td>\n",
       "      <td>1.000000</td>\n",
       "      <td>0.231460</td>\n",
       "    </tr>\n",
       "    <tr>\n",
       "      <th>Steps</th>\n",
       "      <td>-0.108136</td>\n",
       "      <td>1.000000</td>\n",
       "      <td>0.905894</td>\n",
       "      <td>0.999549</td>\n",
       "      <td>0.231460</td>\n",
       "      <td>1.000000</td>\n",
       "    </tr>\n",
       "  </tbody>\n",
       "</table>\n",
       "</div>"
      ],
      "text/plain": [
       "            Unnamed: 0  StepCount      Kcal     Miles      Walk     Steps\n",
       "Unnamed: 0    1.000000  -0.108136 -0.079658 -0.106302  0.239676 -0.108136\n",
       "StepCount    -0.108136   1.000000  0.905894  0.999549  0.231460  1.000000\n",
       "Kcal         -0.079658   0.905894  1.000000  0.904287  0.342689  0.905894\n",
       "Miles        -0.106302   0.999549  0.904287  1.000000  0.233232  0.999549\n",
       "Walk          0.239676   0.231460  0.342689  0.233232  1.000000  0.231460\n",
       "Steps        -0.108136   1.000000  0.905894  0.999549  0.231460  1.000000"
      ]
     },
     "execution_count": 19,
     "metadata": {},
     "output_type": "execute_result"
    }
   ],
   "source": [
    "corr_mat"
   ]
  },
  {
   "cell_type": "code",
   "execution_count": 20,
   "id": "d3eee73a",
   "metadata": {},
   "outputs": [
    {
     "data": {
      "text/plain": [
       "<Axes: >"
      ]
     },
     "execution_count": 20,
     "metadata": {},
     "output_type": "execute_result"
    },
    {
     "data": {
      "image/png": "[encoded data removed]",
      "text/plain": [
       "<Figure size 400x400 with 2 Axes>"
      ]
     },
     "metadata": {},
     "output_type": "display_data"
    }
   ],
   "source": [
    "plt.figure(figsize=(4,4))\n",
    "sns.heatmap(corr_mat,annot=True)"
   ]
  },
  {
   "cell_type": "code",
   "execution_count": 21,
   "id": "0f22a679",
   "metadata": {},
   "outputs": [
    {
     "data": {
      "text/plain": [
       "<Axes: xlabel='Day', ylabel='count'>"
      ]
     },
     "execution_count": 21,
     "metadata": {},
     "output_type": "execute_result"
    },
    {
     "data": {
      "image/png": "[encoded data removed]",
      "text/plain": [
       "<Figure size 640x480 with 1 Axes>"
      ]
     },
     "metadata": {},
     "output_type": "display_data"
    }
   ],
   "source": [
    "sns.countplot(x='Day', hue='Weather', data=dp)"
   ]
  },
  {
   "cell_type": "code",
   "execution_count": 22,
   "id": "6d3dbbba",
   "metadata": {},
   "outputs": [],
   "source": [
    "from sklearn.model_selection import train_test_split\n",
    "from sklearn.linear_model import LogisticRegression\n",
    "from sklearn.metrics import accuracy_score, classification_report\n",
    "from sklearn.preprocessing import StandardScaler\n",
    "from sklearn.preprocessing import LabelEncoder\n",
    "from sklearn.naive_bayes import GaussianNB\n",
    "from sklearn.ensemble import RandomForestClassifier\n",
    "from sklearn.tree import DecisionTreeClassifier\n",
    "from  sklearn.cluster import KMeans\n",
    "from sklearn import svm"
   ]
  },
  {
   "cell_type": "code",
   "execution_count": 23,
   "id": "c638322e",
   "metadata": {},
   "outputs": [],
   "source": [
    "label_encoder = LabelEncoder()"
   ]
  },
  {
   "cell_type": "code",
   "execution_count": 24,
   "id": "665f73b3",
   "metadata": {},
   "outputs": [],
   "source": [
    "dp['Weather'] = label_encoder.fit_transform(dp['Weather'])\n",
    "dp['Day'] = label_encoder.fit_transform(dp['Day'])"
   ]
  },
  {
   "cell_type": "code",
   "execution_count": 25,
   "id": "32456984",
   "metadata": {},
   "outputs": [
    {
     "data": {
      "text/html": [
       "<div>\n",
       "<style scoped>\n",
       "    .dataframe tbody tr th:only-of-type {\n",
       "        vertical-align: middle;\n",
       "    }\n",
       "\n",
       "    .dataframe tbody tr th {\n",
       "        vertical-align: top;\n",
       "    }\n",
       "\n",
       "    .dataframe thead th {\n",
       "        text-align: right;\n",
       "    }\n",
       "</style>\n",
       "<table border=\"1\" class=\"dataframe\">\n",
       "  <thead>\n",
       "    <tr style=\"text-align: right;\">\n",
       "      <th></th>\n",
       "      <th>Unnamed: 0</th>\n",
       "      <th>StepCount</th>\n",
       "      <th>Kcal</th>\n",
       "      <th>Miles</th>\n",
       "      <th>Weather</th>\n",
       "      <th>Day</th>\n",
       "      <th>Walk</th>\n",
       "      <th>Steps</th>\n",
       "    </tr>\n",
       "  </thead>\n",
       "  <tbody>\n",
       "    <tr>\n",
       "      <th>0</th>\n",
       "      <td>1</td>\n",
       "      <td>2615</td>\n",
       "      <td>8</td>\n",
       "      <td>1.4</td>\n",
       "      <td>2</td>\n",
       "      <td>0</td>\n",
       "      <td>0</td>\n",
       "      <td>2.615</td>\n",
       "    </tr>\n",
       "    <tr>\n",
       "      <th>1</th>\n",
       "      <td>2</td>\n",
       "      <td>3323</td>\n",
       "      <td>12</td>\n",
       "      <td>1.8</td>\n",
       "      <td>2</td>\n",
       "      <td>3</td>\n",
       "      <td>0</td>\n",
       "      <td>3.323</td>\n",
       "    </tr>\n",
       "    <tr>\n",
       "      <th>2</th>\n",
       "      <td>3</td>\n",
       "      <td>2721</td>\n",
       "      <td>13</td>\n",
       "      <td>1.4</td>\n",
       "      <td>2</td>\n",
       "      <td>5</td>\n",
       "      <td>0</td>\n",
       "      <td>2.721</td>\n",
       "    </tr>\n",
       "    <tr>\n",
       "      <th>3</th>\n",
       "      <td>4</td>\n",
       "      <td>2454</td>\n",
       "      <td>12</td>\n",
       "      <td>1.3</td>\n",
       "      <td>2</td>\n",
       "      <td>1</td>\n",
       "      <td>0</td>\n",
       "      <td>2.454</td>\n",
       "    </tr>\n",
       "    <tr>\n",
       "      <th>4</th>\n",
       "      <td>5</td>\n",
       "      <td>5528</td>\n",
       "      <td>152</td>\n",
       "      <td>3.1</td>\n",
       "      <td>0</td>\n",
       "      <td>4</td>\n",
       "      <td>1</td>\n",
       "      <td>5.528</td>\n",
       "    </tr>\n",
       "    <tr>\n",
       "      <th>...</th>\n",
       "      <td>...</td>\n",
       "      <td>...</td>\n",
       "      <td>...</td>\n",
       "      <td>...</td>\n",
       "      <td>...</td>\n",
       "      <td>...</td>\n",
       "      <td>...</td>\n",
       "      <td>...</td>\n",
       "    </tr>\n",
       "    <tr>\n",
       "      <th>218</th>\n",
       "      <td>219</td>\n",
       "      <td>1691</td>\n",
       "      <td>0</td>\n",
       "      <td>0.9</td>\n",
       "      <td>0</td>\n",
       "      <td>1</td>\n",
       "      <td>0</td>\n",
       "      <td>1.691</td>\n",
       "    </tr>\n",
       "    <tr>\n",
       "      <th>219</th>\n",
       "      <td>220</td>\n",
       "      <td>3713</td>\n",
       "      <td>102</td>\n",
       "      <td>2.0</td>\n",
       "      <td>0</td>\n",
       "      <td>4</td>\n",
       "      <td>0</td>\n",
       "      <td>3.713</td>\n",
       "    </tr>\n",
       "    <tr>\n",
       "      <th>220</th>\n",
       "      <td>221</td>\n",
       "      <td>3903</td>\n",
       "      <td>120</td>\n",
       "      <td>2.1</td>\n",
       "      <td>0</td>\n",
       "      <td>6</td>\n",
       "      <td>1</td>\n",
       "      <td>3.903</td>\n",
       "    </tr>\n",
       "    <tr>\n",
       "      <th>221</th>\n",
       "      <td>222</td>\n",
       "      <td>5772</td>\n",
       "      <td>115</td>\n",
       "      <td>3.2</td>\n",
       "      <td>0</td>\n",
       "      <td>2</td>\n",
       "      <td>1</td>\n",
       "      <td>5.772</td>\n",
       "    </tr>\n",
       "    <tr>\n",
       "      <th>222</th>\n",
       "      <td>223</td>\n",
       "      <td>5443</td>\n",
       "      <td>135</td>\n",
       "      <td>3.0</td>\n",
       "      <td>0</td>\n",
       "      <td>0</td>\n",
       "      <td>1</td>\n",
       "      <td>5.443</td>\n",
       "    </tr>\n",
       "  </tbody>\n",
       "</table>\n",
       "<p>223 rows × 8 columns</p>\n",
       "</div>"
      ],
      "text/plain": [
       "     Unnamed: 0  StepCount  Kcal  Miles  Weather  Day  Walk  Steps\n",
       "0             1       2615     8    1.4        2    0     0  2.615\n",
       "1             2       3323    12    1.8        2    3     0  3.323\n",
       "2             3       2721    13    1.4        2    5     0  2.721\n",
       "3             4       2454    12    1.3        2    1     0  2.454\n",
       "4             5       5528   152    3.1        0    4     1  5.528\n",
       "..          ...        ...   ...    ...      ...  ...   ...    ...\n",
       "218         219       1691     0    0.9        0    1     0  1.691\n",
       "219         220       3713   102    2.0        0    4     0  3.713\n",
       "220         221       3903   120    2.1        0    6     1  3.903\n",
       "221         222       5772   115    3.2        0    2     1  5.772\n",
       "222         223       5443   135    3.0        0    0     1  5.443\n",
       "\n",
       "[223 rows x 8 columns]"
      ]
     },
     "execution_count": 25,
     "metadata": {},
     "output_type": "execute_result"
    }
   ],
   "source": [
    "dp"
   ]
  },
  {
   "cell_type": "code",
   "execution_count": 26,
   "id": "f03d6e3d",
   "metadata": {},
   "outputs": [
    {
     "data": {
      "text/plain": [
       "2    119\n",
       "0     69\n",
       "1     35\n",
       "Name: Weather, dtype: int64"
      ]
     },
     "execution_count": 26,
     "metadata": {},
     "output_type": "execute_result"
    }
   ],
   "source": [
    "dp['Weather'].value_counts()\n"
   ]
  },
  {
   "cell_type": "code",
   "execution_count": null,
   "id": "f0a45f3d",
   "metadata": {},
   "outputs": [],
   "source": []
  },
  {
   "cell_type": "code",
   "execution_count": 27,
   "id": "94bef7ef",
   "metadata": {},
   "outputs": [],
   "source": [
    "dp.replace({'Day':{'M':0,'T':1,'W':2,'R':3,'F':4,'S':5,'U':6},'Weather':{'shine':0,'cold':1,'rain':2}},inplace=True)"
   ]
  },
  {
   "cell_type": "code",
   "execution_count": 28,
   "id": "c58ee303",
   "metadata": {},
   "outputs": [
    {
     "data": {
      "text/html": [
       "<div>\n",
       "<style scoped>\n",
       "    .dataframe tbody tr th:only-of-type {\n",
       "        vertical-align: middle;\n",
       "    }\n",
       "\n",
       "    .dataframe tbody tr th {\n",
       "        vertical-align: top;\n",
       "    }\n",
       "\n",
       "    .dataframe thead th {\n",
       "        text-align: right;\n",
       "    }\n",
       "</style>\n",
       "<table border=\"1\" class=\"dataframe\">\n",
       "  <thead>\n",
       "    <tr style=\"text-align: right;\">\n",
       "      <th></th>\n",
       "      <th>Unnamed: 0</th>\n",
       "      <th>StepCount</th>\n",
       "      <th>Kcal</th>\n",
       "      <th>Miles</th>\n",
       "      <th>Weather</th>\n",
       "      <th>Day</th>\n",
       "      <th>Walk</th>\n",
       "      <th>Steps</th>\n",
       "    </tr>\n",
       "  </thead>\n",
       "  <tbody>\n",
       "    <tr>\n",
       "      <th>0</th>\n",
       "      <td>1</td>\n",
       "      <td>2615</td>\n",
       "      <td>8</td>\n",
       "      <td>1.4</td>\n",
       "      <td>2</td>\n",
       "      <td>0</td>\n",
       "      <td>0</td>\n",
       "      <td>2.615</td>\n",
       "    </tr>\n",
       "    <tr>\n",
       "      <th>1</th>\n",
       "      <td>2</td>\n",
       "      <td>3323</td>\n",
       "      <td>12</td>\n",
       "      <td>1.8</td>\n",
       "      <td>2</td>\n",
       "      <td>3</td>\n",
       "      <td>0</td>\n",
       "      <td>3.323</td>\n",
       "    </tr>\n",
       "    <tr>\n",
       "      <th>2</th>\n",
       "      <td>3</td>\n",
       "      <td>2721</td>\n",
       "      <td>13</td>\n",
       "      <td>1.4</td>\n",
       "      <td>2</td>\n",
       "      <td>5</td>\n",
       "      <td>0</td>\n",
       "      <td>2.721</td>\n",
       "    </tr>\n",
       "    <tr>\n",
       "      <th>3</th>\n",
       "      <td>4</td>\n",
       "      <td>2454</td>\n",
       "      <td>12</td>\n",
       "      <td>1.3</td>\n",
       "      <td>2</td>\n",
       "      <td>1</td>\n",
       "      <td>0</td>\n",
       "      <td>2.454</td>\n",
       "    </tr>\n",
       "    <tr>\n",
       "      <th>4</th>\n",
       "      <td>5</td>\n",
       "      <td>5528</td>\n",
       "      <td>152</td>\n",
       "      <td>3.1</td>\n",
       "      <td>0</td>\n",
       "      <td>4</td>\n",
       "      <td>1</td>\n",
       "      <td>5.528</td>\n",
       "    </tr>\n",
       "    <tr>\n",
       "      <th>...</th>\n",
       "      <td>...</td>\n",
       "      <td>...</td>\n",
       "      <td>...</td>\n",
       "      <td>...</td>\n",
       "      <td>...</td>\n",
       "      <td>...</td>\n",
       "      <td>...</td>\n",
       "      <td>...</td>\n",
       "    </tr>\n",
       "    <tr>\n",
       "      <th>218</th>\n",
       "      <td>219</td>\n",
       "      <td>1691</td>\n",
       "      <td>0</td>\n",
       "      <td>0.9</td>\n",
       "      <td>0</td>\n",
       "      <td>1</td>\n",
       "      <td>0</td>\n",
       "      <td>1.691</td>\n",
       "    </tr>\n",
       "    <tr>\n",
       "      <th>219</th>\n",
       "      <td>220</td>\n",
       "      <td>3713</td>\n",
       "      <td>102</td>\n",
       "      <td>2.0</td>\n",
       "      <td>0</td>\n",
       "      <td>4</td>\n",
       "      <td>0</td>\n",
       "      <td>3.713</td>\n",
       "    </tr>\n",
       "    <tr>\n",
       "      <th>220</th>\n",
       "      <td>221</td>\n",
       "      <td>3903</td>\n",
       "      <td>120</td>\n",
       "      <td>2.1</td>\n",
       "      <td>0</td>\n",
       "      <td>6</td>\n",
       "      <td>1</td>\n",
       "      <td>3.903</td>\n",
       "    </tr>\n",
       "    <tr>\n",
       "      <th>221</th>\n",
       "      <td>222</td>\n",
       "      <td>5772</td>\n",
       "      <td>115</td>\n",
       "      <td>3.2</td>\n",
       "      <td>0</td>\n",
       "      <td>2</td>\n",
       "      <td>1</td>\n",
       "      <td>5.772</td>\n",
       "    </tr>\n",
       "    <tr>\n",
       "      <th>222</th>\n",
       "      <td>223</td>\n",
       "      <td>5443</td>\n",
       "      <td>135</td>\n",
       "      <td>3.0</td>\n",
       "      <td>0</td>\n",
       "      <td>0</td>\n",
       "      <td>1</td>\n",
       "      <td>5.443</td>\n",
       "    </tr>\n",
       "  </tbody>\n",
       "</table>\n",
       "<p>223 rows × 8 columns</p>\n",
       "</div>"
      ],
      "text/plain": [
       "     Unnamed: 0  StepCount  Kcal  Miles  Weather  Day  Walk  Steps\n",
       "0             1       2615     8    1.4        2    0     0  2.615\n",
       "1             2       3323    12    1.8        2    3     0  3.323\n",
       "2             3       2721    13    1.4        2    5     0  2.721\n",
       "3             4       2454    12    1.3        2    1     0  2.454\n",
       "4             5       5528   152    3.1        0    4     1  5.528\n",
       "..          ...        ...   ...    ...      ...  ...   ...    ...\n",
       "218         219       1691     0    0.9        0    1     0  1.691\n",
       "219         220       3713   102    2.0        0    4     0  3.713\n",
       "220         221       3903   120    2.1        0    6     1  3.903\n",
       "221         222       5772   115    3.2        0    2     1  5.772\n",
       "222         223       5443   135    3.0        0    0     1  5.443\n",
       "\n",
       "[223 rows x 8 columns]"
      ]
     },
     "execution_count": 28,
     "metadata": {},
     "output_type": "execute_result"
    }
   ],
   "source": [
    "dp"
   ]
  },
  {
   "cell_type": "markdown",
   "id": "eff0d870",
   "metadata": {},
   "source": [
    "# Train Test Split"
   ]
  },
  {
   "cell_type": "code",
   "execution_count": 29,
   "id": "781a3bd7",
   "metadata": {},
   "outputs": [],
   "source": [
    "X=dp.drop(columns=['Weather'],axis=1)\n",
    "Y=dp['Weather']"
   ]
  },
  {
   "cell_type": "code",
   "execution_count": 30,
   "id": "b19c2ef9",
   "metadata": {},
   "outputs": [
    {
     "data": {
      "text/html": [
       "<div>\n",
       "<style scoped>\n",
       "    .dataframe tbody tr th:only-of-type {\n",
       "        vertical-align: middle;\n",
       "    }\n",
       "\n",
       "    .dataframe tbody tr th {\n",
       "        vertical-align: top;\n",
       "    }\n",
       "\n",
       "    .dataframe thead th {\n",
       "        text-align: right;\n",
       "    }\n",
       "</style>\n",
       "<table border=\"1\" class=\"dataframe\">\n",
       "  <thead>\n",
       "    <tr style=\"text-align: right;\">\n",
       "      <th></th>\n",
       "      <th>Unnamed: 0</th>\n",
       "      <th>StepCount</th>\n",
       "      <th>Kcal</th>\n",
       "      <th>Miles</th>\n",
       "      <th>Day</th>\n",
       "      <th>Walk</th>\n",
       "      <th>Steps</th>\n",
       "    </tr>\n",
       "  </thead>\n",
       "  <tbody>\n",
       "    <tr>\n",
       "      <th>0</th>\n",
       "      <td>1</td>\n",
       "      <td>2615</td>\n",
       "      <td>8</td>\n",
       "      <td>1.4</td>\n",
       "      <td>0</td>\n",
       "      <td>0</td>\n",
       "      <td>2.615</td>\n",
       "    </tr>\n",
       "    <tr>\n",
       "      <th>1</th>\n",
       "      <td>2</td>\n",
       "      <td>3323</td>\n",
       "      <td>12</td>\n",
       "      <td>1.8</td>\n",
       "      <td>3</td>\n",
       "      <td>0</td>\n",
       "      <td>3.323</td>\n",
       "    </tr>\n",
       "    <tr>\n",
       "      <th>2</th>\n",
       "      <td>3</td>\n",
       "      <td>2721</td>\n",
       "      <td>13</td>\n",
       "      <td>1.4</td>\n",
       "      <td>5</td>\n",
       "      <td>0</td>\n",
       "      <td>2.721</td>\n",
       "    </tr>\n",
       "    <tr>\n",
       "      <th>3</th>\n",
       "      <td>4</td>\n",
       "      <td>2454</td>\n",
       "      <td>12</td>\n",
       "      <td>1.3</td>\n",
       "      <td>1</td>\n",
       "      <td>0</td>\n",
       "      <td>2.454</td>\n",
       "    </tr>\n",
       "    <tr>\n",
       "      <th>4</th>\n",
       "      <td>5</td>\n",
       "      <td>5528</td>\n",
       "      <td>152</td>\n",
       "      <td>3.1</td>\n",
       "      <td>4</td>\n",
       "      <td>1</td>\n",
       "      <td>5.528</td>\n",
       "    </tr>\n",
       "    <tr>\n",
       "      <th>...</th>\n",
       "      <td>...</td>\n",
       "      <td>...</td>\n",
       "      <td>...</td>\n",
       "      <td>...</td>\n",
       "      <td>...</td>\n",
       "      <td>...</td>\n",
       "      <td>...</td>\n",
       "    </tr>\n",
       "    <tr>\n",
       "      <th>218</th>\n",
       "      <td>219</td>\n",
       "      <td>1691</td>\n",
       "      <td>0</td>\n",
       "      <td>0.9</td>\n",
       "      <td>1</td>\n",
       "      <td>0</td>\n",
       "      <td>1.691</td>\n",
       "    </tr>\n",
       "    <tr>\n",
       "      <th>219</th>\n",
       "      <td>220</td>\n",
       "      <td>3713</td>\n",
       "      <td>102</td>\n",
       "      <td>2.0</td>\n",
       "      <td>4</td>\n",
       "      <td>0</td>\n",
       "      <td>3.713</td>\n",
       "    </tr>\n",
       "    <tr>\n",
       "      <th>220</th>\n",
       "      <td>221</td>\n",
       "      <td>3903</td>\n",
       "      <td>120</td>\n",
       "      <td>2.1</td>\n",
       "      <td>6</td>\n",
       "      <td>1</td>\n",
       "      <td>3.903</td>\n",
       "    </tr>\n",
       "    <tr>\n",
       "      <th>221</th>\n",
       "      <td>222</td>\n",
       "      <td>5772</td>\n",
       "      <td>115</td>\n",
       "      <td>3.2</td>\n",
       "      <td>2</td>\n",
       "      <td>1</td>\n",
       "      <td>5.772</td>\n",
       "    </tr>\n",
       "    <tr>\n",
       "      <th>222</th>\n",
       "      <td>223</td>\n",
       "      <td>5443</td>\n",
       "      <td>135</td>\n",
       "      <td>3.0</td>\n",
       "      <td>0</td>\n",
       "      <td>1</td>\n",
       "      <td>5.443</td>\n",
       "    </tr>\n",
       "  </tbody>\n",
       "</table>\n",
       "<p>223 rows × 7 columns</p>\n",
       "</div>"
      ],
      "text/plain": [
       "     Unnamed: 0  StepCount  Kcal  Miles  Day  Walk  Steps\n",
       "0             1       2615     8    1.4    0     0  2.615\n",
       "1             2       3323    12    1.8    3     0  3.323\n",
       "2             3       2721    13    1.4    5     0  2.721\n",
       "3             4       2454    12    1.3    1     0  2.454\n",
       "4             5       5528   152    3.1    4     1  5.528\n",
       "..          ...        ...   ...    ...  ...   ...    ...\n",
       "218         219       1691     0    0.9    1     0  1.691\n",
       "219         220       3713   102    2.0    4     0  3.713\n",
       "220         221       3903   120    2.1    6     1  3.903\n",
       "221         222       5772   115    3.2    2     1  5.772\n",
       "222         223       5443   135    3.0    0     1  5.443\n",
       "\n",
       "[223 rows x 7 columns]"
      ]
     },
     "execution_count": 30,
     "metadata": {},
     "output_type": "execute_result"
    }
   ],
   "source": [
    "X"
   ]
  },
  {
   "cell_type": "code",
   "execution_count": 31,
   "id": "9c37c05f",
   "metadata": {},
   "outputs": [
    {
     "data": {
      "text/plain": [
       "0      2\n",
       "1      2\n",
       "2      2\n",
       "3      2\n",
       "4      0\n",
       "      ..\n",
       "218    0\n",
       "219    0\n",
       "220    0\n",
       "221    0\n",
       "222    0\n",
       "Name: Weather, Length: 223, dtype: int32"
      ]
     },
     "execution_count": 31,
     "metadata": {},
     "output_type": "execute_result"
    }
   ],
   "source": [
    "Y"
   ]
  },
  {
   "cell_type": "code",
   "execution_count": 32,
   "id": "876d02e9",
   "metadata": {},
   "outputs": [],
   "source": [
    "X_train,X_test,Y_train,Y_test= train_test_split(X,Y,test_size=0.20,stratify=Y,random_state=2)"
   ]
  },
  {
   "cell_type": "code",
   "execution_count": 33,
   "id": "58cfaeaa",
   "metadata": {},
   "outputs": [
    {
     "name": "stdout",
     "output_type": "stream",
     "text": [
      "(223, 7) (178, 7) (45, 7)\n"
     ]
    }
   ],
   "source": [
    "print(X.shape, X_train.shape, X_test.shape)"
   ]
  },
  {
   "cell_type": "markdown",
   "id": "5a1609de",
   "metadata": {},
   "source": [
    "# Logistic regression"
   ]
  },
  {
   "cell_type": "code",
   "execution_count": 34,
   "id": "a0614914",
   "metadata": {},
   "outputs": [],
   "source": [
    "lr = LogisticRegression()"
   ]
  },
  {
   "cell_type": "code",
   "execution_count": 35,
   "id": "dcb5e52d",
   "metadata": {},
   "outputs": [
    {
     "name": "stderr",
     "output_type": "stream",
     "text": [
      "C:\\ProgramData\\anaconda3\\lib\\site-packages\\sklearn\\linear_model\\_logistic.py:458: ConvergenceWarning: lbfgs failed to converge (status=1):\n",
      "STOP: TOTAL NO. of ITERATIONS REACHED LIMIT.\n",
      "\n",
      "Increase the number of iterations (max_iter) or scale the data as shown in:\n",
      "    https://scikit-learn.org/stable/modules/preprocessing.html\n",
      "Please also refer to the documentation for alternative solver options:\n",
      "    https://scikit-learn.org/stable/modules/linear_model.html#logistic-regression\n",
      "  n_iter_i = _check_optimize_result(\n"
     ]
    },
    {
     "data": {
      "text/html": [
       "<style>#sk-container-id-1 {color: black;background-color: white;}#sk-container-id-1 pre{padding: 0;}#sk-container-id-1 div.sk-toggleable {background-color: white;}#sk-container-id-1 label.sk-toggleable__label {cursor: pointer;display: block;width: 100%;margin-bottom: 0;padding: 0.3em;box-sizing: border-box;text-align: center;}#sk-container-id-1 label.sk-toggleable__label-arrow:before {content: \"▸\";float: left;margin-right: 0.25em;color: #696969;}#sk-container-id-1 label.sk-toggleable__label-arrow:hover:before {color: black;}#sk-container-id-1 div.sk-estimator:hover label.sk-toggleable__label-arrow:before {color: black;}#sk-container-id-1 div.sk-toggleable__content {max-height: 0;max-width: 0;overflow: hidden;text-align: left;background-color: #f0f8ff;}#sk-container-id-1 div.sk-toggleable__content pre {margin: 0.2em;color: black;border-radius: 0.25em;background-color: #f0f8ff;}#sk-container-id-1 input.sk-toggleable__control:checked~div.sk-toggleable__content {max-height: 200px;max-width: 100%;overflow: auto;}#sk-container-id-1 input.sk-toggleable__control:checked~label.sk-toggleable__label-arrow:before {content: \"▾\";}#sk-container-id-1 div.sk-estimator input.sk-toggleable__control:checked~label.sk-toggleable__label {background-color: #d4ebff;}#sk-container-id-1 div.sk-label input.sk-toggleable__control:checked~label.sk-toggleable__label {background-color: #d4ebff;}#sk-container-id-1 input.sk-hidden--visually {border: 0;clip: rect(1px 1px 1px 1px);clip: rect(1px, 1px, 1px, 1px);height: 1px;margin: -1px;overflow: hidden;padding: 0;position: absolute;width: 1px;}#sk-container-id-1 div.sk-estimator {font-family: monospace;background-color: #f0f8ff;border: 1px dotted black;border-radius: 0.25em;box-sizing: border-box;margin-bottom: 0.5em;}#sk-container-id-1 div.sk-estimator:hover {background-color: #d4ebff;}#sk-container-id-1 div.sk-parallel-item::after {content: \"\";width: 100%;border-bottom: 1px solid gray;flex-grow: 1;}#sk-container-id-1 div.sk-label:hover label.sk-toggleable__label {background-color: #d4ebff;}#sk-container-id-1 div.sk-serial::before {content: \"\";position: absolute;border-left: 1px solid gray;box-sizing: border-box;top: 0;bottom: 0;left: 50%;z-index: 0;}#sk-container-id-1 div.sk-serial {display: flex;flex-direction: column;align-items: center;background-color: white;padding-right: 0.2em;padding-left: 0.2em;position: relative;}#sk-container-id-1 div.sk-item {position: relative;z-index: 1;}#sk-container-id-1 div.sk-parallel {display: flex;align-items: stretch;justify-content: center;background-color: white;position: relative;}#sk-container-id-1 div.sk-item::before, #sk-container-id-1 div.sk-parallel-item::before {content: \"\";position: absolute;border-left: 1px solid gray;box-sizing: border-box;top: 0;bottom: 0;left: 50%;z-index: -1;}#sk-container-id-1 div.sk-parallel-item {display: flex;flex-direction: column;z-index: 1;position: relative;background-color: white;}#sk-container-id-1 div.sk-parallel-item:first-child::after {align-self: flex-end;width: 50%;}#sk-container-id-1 div.sk-parallel-item:last-child::after {align-self: flex-start;width: 50%;}#sk-container-id-1 div.sk-parallel-item:only-child::after {width: 0;}#sk-container-id-1 div.sk-dashed-wrapped {border: 1px dashed gray;margin: 0 0.4em 0.5em 0.4em;box-sizing: border-box;padding-bottom: 0.4em;background-color: white;}#sk-container-id-1 div.sk-label label {font-family: monospace;font-weight: bold;display: inline-block;line-height: 1.2em;}#sk-container-id-1 div.sk-label-container {text-align: center;}#sk-container-id-1 div.sk-container {/* jupyter's `normalize.less` sets `[hidden] { display: none; }` but bootstrap.min.css set `[hidden] { display: none !important; }` so we also need the `!important` here to be able to override the default hidden behavior on the sphinx rendered scikit-learn.org. See: https://github.com/scikit-learn/scikit-learn/issues/21755 */display: inline-block !important;position: relative;}#sk-container-id-1 div.sk-text-repr-fallback {display: none;}</style><div id=\"sk-container-id-1\" class=\"sk-top-container\"><div class=\"sk-text-repr-fallback\"><pre>LogisticRegression()</pre><b>In a Jupyter environment, please rerun this cell to show the HTML representation or trust the notebook. <br />On GitHub, the HTML representation is unable to render, please try loading this page with nbviewer.org.</b></div><div class=\"sk-container\" hidden><div class=\"sk-item\"><div class=\"sk-estimator sk-toggleable\"><input class=\"sk-toggleable__control sk-hidden--visually\" id=\"sk-estimator-id-1\" type=\"checkbox\" checked><label for=\"sk-estimator-id-1\" class=\"sk-toggleable__label sk-toggleable__label-arrow\">LogisticRegression</label><div class=\"sk-toggleable__content\"><pre>LogisticRegression()</pre></div></div></div></div></div>"
      ],
      "text/plain": [
       "LogisticRegression()"
      ]
     },
     "execution_count": 35,
     "metadata": {},
     "output_type": "execute_result"
    }
   ],
   "source": [
    "lr.fit(X_train,Y_train)"
   ]
  },
  {
   "cell_type": "code",
   "execution_count": 36,
   "id": "b68c0ae9",
   "metadata": {},
   "outputs": [],
   "source": [
    "x_train_prediction = lr.predict(X_train)\n",
    "tr_data_accuracy= accuracy_score(x_train_prediction,Y_train)"
   ]
  },
  {
   "cell_type": "code",
   "execution_count": 37,
   "id": "be65d767",
   "metadata": {},
   "outputs": [
    {
     "data": {
      "text/plain": [
       "0.5674157303370787"
      ]
     },
     "execution_count": 37,
     "metadata": {},
     "output_type": "execute_result"
    }
   ],
   "source": [
    "tr_data_accuracy"
   ]
  },
  {
   "cell_type": "code",
   "execution_count": 38,
   "id": "36d236f6",
   "metadata": {},
   "outputs": [],
   "source": [
    "x_test_prediction = lr.predict(X_test)\n",
    "te_data_accuracy= accuracy_score(x_test_prediction,Y_test)"
   ]
  },
  {
   "cell_type": "markdown",
   "id": "7ee09f63",
   "metadata": {},
   "source": [
    "# SVC"
   ]
  },
  {
   "cell_type": "code",
   "execution_count": 39,
   "id": "79166076",
   "metadata": {},
   "outputs": [],
   "source": [
    "model = svm.SVC(kernel='linear')"
   ]
  },
  {
   "cell_type": "code",
   "execution_count": 40,
   "id": "073288c7",
   "metadata": {},
   "outputs": [
    {
     "data": {
      "text/html": [
       "<style>#sk-container-id-2 {color: black;background-color: white;}#sk-container-id-2 pre{padding: 0;}#sk-container-id-2 div.sk-toggleable {background-color: white;}#sk-container-id-2 label.sk-toggleable__label {cursor: pointer;display: block;width: 100%;margin-bottom: 0;padding: 0.3em;box-sizing: border-box;text-align: center;}#sk-container-id-2 label.sk-toggleable__label-arrow:before {content: \"▸\";float: left;margin-right: 0.25em;color: #696969;}#sk-container-id-2 label.sk-toggleable__label-arrow:hover:before {color: black;}#sk-container-id-2 div.sk-estimator:hover label.sk-toggleable__label-arrow:before {color: black;}#sk-container-id-2 div.sk-toggleable__content {max-height: 0;max-width: 0;overflow: hidden;text-align: left;background-color: #f0f8ff;}#sk-container-id-2 div.sk-toggleable__content pre {margin: 0.2em;color: black;border-radius: 0.25em;background-color: #f0f8ff;}#sk-container-id-2 input.sk-toggleable__control:checked~div.sk-toggleable__content {max-height: 200px;max-width: 100%;overflow: auto;}#sk-container-id-2 input.sk-toggleable__control:checked~label.sk-toggleable__label-arrow:before {content: \"▾\";}#sk-container-id-2 div.sk-estimator input.sk-toggleable__control:checked~label.sk-toggleable__label {background-color: #d4ebff;}#sk-container-id-2 div.sk-label input.sk-toggleable__control:checked~label.sk-toggleable__label {background-color: #d4ebff;}#sk-container-id-2 input.sk-hidden--visually {border: 0;clip: rect(1px 1px 1px 1px);clip: rect(1px, 1px, 1px, 1px);height: 1px;margin: -1px;overflow: hidden;padding: 0;position: absolute;width: 1px;}#sk-container-id-2 div.sk-estimator {font-family: monospace;background-color: #f0f8ff;border: 1px dotted black;border-radius: 0.25em;box-sizing: border-box;margin-bottom: 0.5em;}#sk-container-id-2 div.sk-estimator:hover {background-color: #d4ebff;}#sk-container-id-2 div.sk-parallel-item::after {content: \"\";width: 100%;border-bottom: 1px solid gray;flex-grow: 1;}#sk-container-id-2 div.sk-label:hover label.sk-toggleable__label {background-color: #d4ebff;}#sk-container-id-2 div.sk-serial::before {content: \"\";position: absolute;border-left: 1px solid gray;box-sizing: border-box;top: 0;bottom: 0;left: 50%;z-index: 0;}#sk-container-id-2 div.sk-serial {display: flex;flex-direction: column;align-items: center;background-color: white;padding-right: 0.2em;padding-left: 0.2em;position: relative;}#sk-container-id-2 div.sk-item {position: relative;z-index: 1;}#sk-container-id-2 div.sk-parallel {display: flex;align-items: stretch;justify-content: center;background-color: white;position: relative;}#sk-container-id-2 div.sk-item::before, #sk-container-id-2 div.sk-parallel-item::before {content: \"\";position: absolute;border-left: 1px solid gray;box-sizing: border-box;top: 0;bottom: 0;left: 50%;z-index: -1;}#sk-container-id-2 div.sk-parallel-item {display: flex;flex-direction: column;z-index: 1;position: relative;background-color: white;}#sk-container-id-2 div.sk-parallel-item:first-child::after {align-self: flex-end;width: 50%;}#sk-container-id-2 div.sk-parallel-item:last-child::after {align-self: flex-start;width: 50%;}#sk-container-id-2 div.sk-parallel-item:only-child::after {width: 0;}#sk-container-id-2 div.sk-dashed-wrapped {border: 1px dashed gray;margin: 0 0.4em 0.5em 0.4em;box-sizing: border-box;padding-bottom: 0.4em;background-color: white;}#sk-container-id-2 div.sk-label label {font-family: monospace;font-weight: bold;display: inline-block;line-height: 1.2em;}#sk-container-id-2 div.sk-label-container {text-align: center;}#sk-container-id-2 div.sk-container {/* jupyter's `normalize.less` sets `[hidden] { display: none; }` but bootstrap.min.css set `[hidden] { display: none !important; }` so we also need the `!important` here to be able to override the default hidden behavior on the sphinx rendered scikit-learn.org. See: https://github.com/scikit-learn/scikit-learn/issues/21755 */display: inline-block !important;position: relative;}#sk-container-id-2 div.sk-text-repr-fallback {display: none;}</style><div id=\"sk-container-id-2\" class=\"sk-top-container\"><div class=\"sk-text-repr-fallback\"><pre>SVC(kernel=&#x27;linear&#x27;)</pre><b>In a Jupyter environment, please rerun this cell to show the HTML representation or trust the notebook. <br />On GitHub, the HTML representation is unable to render, please try loading this page with nbviewer.org.</b></div><div class=\"sk-container\" hidden><div class=\"sk-item\"><div class=\"sk-estimator sk-toggleable\"><input class=\"sk-toggleable__control sk-hidden--visually\" id=\"sk-estimator-id-2\" type=\"checkbox\" checked><label for=\"sk-estimator-id-2\" class=\"sk-toggleable__label sk-toggleable__label-arrow\">SVC</label><div class=\"sk-toggleable__content\"><pre>SVC(kernel=&#x27;linear&#x27;)</pre></div></div></div></div></div>"
      ],
      "text/plain": [
       "SVC(kernel='linear')"
      ]
     },
     "execution_count": 40,
     "metadata": {},
     "output_type": "execute_result"
    }
   ],
   "source": [
    "model.fit(X_train,Y_train)"
   ]
  },
  {
   "cell_type": "code",
   "execution_count": 41,
   "id": "6dce8449",
   "metadata": {},
   "outputs": [],
   "source": [
    "X_train_prediction = model.predict(X_train)\n",
    "training_data_accuracy= accuracy_score(X_train_prediction,Y_train)"
   ]
  },
  {
   "cell_type": "code",
   "execution_count": 42,
   "id": "32d4d151",
   "metadata": {},
   "outputs": [
    {
     "data": {
      "text/plain": [
       "0.5786516853932584"
      ]
     },
     "execution_count": 42,
     "metadata": {},
     "output_type": "execute_result"
    }
   ],
   "source": [
    "training_data_accuracy"
   ]
  },
  {
   "cell_type": "code",
   "execution_count": 43,
   "id": "7f96e2ca",
   "metadata": {},
   "outputs": [],
   "source": [
    "X_test_prediction = model.predict(X_test)\n",
    "test_data_acc= accuracy_score(X_test_prediction,Y_test)"
   ]
  },
  {
   "cell_type": "code",
   "execution_count": 44,
   "id": "83e815b6",
   "metadata": {},
   "outputs": [
    {
     "data": {
      "text/plain": [
       "0.5333333333333333"
      ]
     },
     "execution_count": 44,
     "metadata": {},
     "output_type": "execute_result"
    }
   ],
   "source": [
    "test_data_acc"
   ]
  },
  {
   "cell_type": "code",
   "execution_count": 45,
   "id": "f73f3e63",
   "metadata": {},
   "outputs": [
    {
     "data": {
      "text/plain": [
       "0.5111111111111111"
      ]
     },
     "execution_count": 45,
     "metadata": {},
     "output_type": "execute_result"
    }
   ],
   "source": [
    "te_data_accuracy"
   ]
  },
  {
   "cell_type": "code",
   "execution_count": null,
   "id": "ff8f0c84",
   "metadata": {},
   "outputs": [],
   "source": []
  },
  {
   "cell_type": "markdown",
   "id": "6726b33e",
   "metadata": {},
   "source": [
    "# Naive Bayes"
   ]
  },
  {
   "cell_type": "code",
   "execution_count": 46,
   "id": "e7983fc7",
   "metadata": {},
   "outputs": [],
   "source": [
    "sc=StandardScaler()\n",
    "x_train1=sc.fit_transform(X_train)\n",
    "x_test1=sc.fit_transform(X_test)"
   ]
  },
  {
   "cell_type": "code",
   "execution_count": 47,
   "id": "6b51a3bf",
   "metadata": {},
   "outputs": [],
   "source": [
    "model1 = GaussianNB()"
   ]
  },
  {
   "cell_type": "code",
   "execution_count": 48,
   "id": "334d0f4b",
   "metadata": {},
   "outputs": [
    {
     "data": {
      "text/html": [
       "<style>#sk-container-id-3 {color: black;background-color: white;}#sk-container-id-3 pre{padding: 0;}#sk-container-id-3 div.sk-toggleable {background-color: white;}#sk-container-id-3 label.sk-toggleable__label {cursor: pointer;display: block;width: 100%;margin-bottom: 0;padding: 0.3em;box-sizing: border-box;text-align: center;}#sk-container-id-3 label.sk-toggleable__label-arrow:before {content: \"▸\";float: left;margin-right: 0.25em;color: #696969;}#sk-container-id-3 label.sk-toggleable__label-arrow:hover:before {color: black;}#sk-container-id-3 div.sk-estimator:hover label.sk-toggleable__label-arrow:before {color: black;}#sk-container-id-3 div.sk-toggleable__content {max-height: 0;max-width: 0;overflow: hidden;text-align: left;background-color: #f0f8ff;}#sk-container-id-3 div.sk-toggleable__content pre {margin: 0.2em;color: black;border-radius: 0.25em;background-color: #f0f8ff;}#sk-container-id-3 input.sk-toggleable__control:checked~div.sk-toggleable__content {max-height: 200px;max-width: 100%;overflow: auto;}#sk-container-id-3 input.sk-toggleable__control:checked~label.sk-toggleable__label-arrow:before {content: \"▾\";}#sk-container-id-3 div.sk-estimator input.sk-toggleable__control:checked~label.sk-toggleable__label {background-color: #d4ebff;}#sk-container-id-3 div.sk-label input.sk-toggleable__control:checked~label.sk-toggleable__label {background-color: #d4ebff;}#sk-container-id-3 input.sk-hidden--visually {border: 0;clip: rect(1px 1px 1px 1px);clip: rect(1px, 1px, 1px, 1px);height: 1px;margin: -1px;overflow: hidden;padding: 0;position: absolute;width: 1px;}#sk-container-id-3 div.sk-estimator {font-family: monospace;background-color: #f0f8ff;border: 1px dotted black;border-radius: 0.25em;box-sizing: border-box;margin-bottom: 0.5em;}#sk-container-id-3 div.sk-estimator:hover {background-color: #d4ebff;}#sk-container-id-3 div.sk-parallel-item::after {content: \"\";width: 100%;border-bottom: 1px solid gray;flex-grow: 1;}#sk-container-id-3 div.sk-label:hover label.sk-toggleable__label {background-color: #d4ebff;}#sk-container-id-3 div.sk-serial::before {content: \"\";position: absolute;border-left: 1px solid gray;box-sizing: border-box;top: 0;bottom: 0;left: 50%;z-index: 0;}#sk-container-id-3 div.sk-serial {display: flex;flex-direction: column;align-items: center;background-color: white;padding-right: 0.2em;padding-left: 0.2em;position: relative;}#sk-container-id-3 div.sk-item {position: relative;z-index: 1;}#sk-container-id-3 div.sk-parallel {display: flex;align-items: stretch;justify-content: center;background-color: white;position: relative;}#sk-container-id-3 div.sk-item::before, #sk-container-id-3 div.sk-parallel-item::before {content: \"\";position: absolute;border-left: 1px solid gray;box-sizing: border-box;top: 0;bottom: 0;left: 50%;z-index: -1;}#sk-container-id-3 div.sk-parallel-item {display: flex;flex-direction: column;z-index: 1;position: relative;background-color: white;}#sk-container-id-3 div.sk-parallel-item:first-child::after {align-self: flex-end;width: 50%;}#sk-container-id-3 div.sk-parallel-item:last-child::after {align-self: flex-start;width: 50%;}#sk-container-id-3 div.sk-parallel-item:only-child::after {width: 0;}#sk-container-id-3 div.sk-dashed-wrapped {border: 1px dashed gray;margin: 0 0.4em 0.5em 0.4em;box-sizing: border-box;padding-bottom: 0.4em;background-color: white;}#sk-container-id-3 div.sk-label label {font-family: monospace;font-weight: bold;display: inline-block;line-height: 1.2em;}#sk-container-id-3 div.sk-label-container {text-align: center;}#sk-container-id-3 div.sk-container {/* jupyter's `normalize.less` sets `[hidden] { display: none; }` but bootstrap.min.css set `[hidden] { display: none !important; }` so we also need the `!important` here to be able to override the default hidden behavior on the sphinx rendered scikit-learn.org. See: https://github.com/scikit-learn/scikit-learn/issues/21755 */display: inline-block !important;position: relative;}#sk-container-id-3 div.sk-text-repr-fallback {display: none;}</style><div id=\"sk-container-id-3\" class=\"sk-top-container\"><div class=\"sk-text-repr-fallback\"><pre>GaussianNB()</pre><b>In a Jupyter environment, please rerun this cell to show the HTML representation or trust the notebook. <br />On GitHub, the HTML representation is unable to render, please try loading this page with nbviewer.org.</b></div><div class=\"sk-container\" hidden><div class=\"sk-item\"><div class=\"sk-estimator sk-toggleable\"><input class=\"sk-toggleable__control sk-hidden--visually\" id=\"sk-estimator-id-3\" type=\"checkbox\" checked><label for=\"sk-estimator-id-3\" class=\"sk-toggleable__label sk-toggleable__label-arrow\">GaussianNB</label><div class=\"sk-toggleable__content\"><pre>GaussianNB()</pre></div></div></div></div></div>"
      ],
      "text/plain": [
       "GaussianNB()"
      ]
     },
     "execution_count": 48,
     "metadata": {},
     "output_type": "execute_result"
    }
   ],
   "source": [
    "model1.fit(x_train1,Y_train)"
   ]
  },
  {
   "cell_type": "code",
   "execution_count": 49,
   "id": "5feb8aac",
   "metadata": {},
   "outputs": [
    {
     "data": {
      "text/plain": [
       "array([0, 2, 2, 0, 2, 2, 0, 1, 0, 0, 2, 2, 0, 2, 2, 2, 2, 1, 0, 0, 0, 2,\n",
       "       2, 2, 1, 2, 0, 2, 2, 2, 0, 2, 0, 2, 0, 2, 0, 0, 2, 0, 0, 2, 2, 1,\n",
       "       2])"
      ]
     },
     "execution_count": 49,
     "metadata": {},
     "output_type": "execute_result"
    }
   ],
   "source": [
    "prd1=model1.predict(x_test1)\n",
    "prd1"
   ]
  },
  {
   "cell_type": "code",
   "execution_count": 50,
   "id": "5b0e2e2f",
   "metadata": {},
   "outputs": [],
   "source": [
    "acc1=accuracy_score(Y_test,prd1)"
   ]
  },
  {
   "cell_type": "code",
   "execution_count": 51,
   "id": "992d8fa0",
   "metadata": {},
   "outputs": [
    {
     "data": {
      "text/plain": [
       "0.5333333333333333"
      ]
     },
     "execution_count": 51,
     "metadata": {},
     "output_type": "execute_result"
    }
   ],
   "source": [
    "acc1"
   ]
  },
  {
   "cell_type": "markdown",
   "id": "70811377",
   "metadata": {},
   "source": [
    "# Decision Tree"
   ]
  },
  {
   "cell_type": "code",
   "execution_count": 52,
   "id": "810dabc4",
   "metadata": {},
   "outputs": [],
   "source": [
    "models3 = dict()"
   ]
  },
  {
   "cell_type": "code",
   "execution_count": 53,
   "id": "9cc01b8e",
   "metadata": {},
   "outputs": [
    {
     "data": {
      "text/html": [
       "<style>#sk-container-id-4 {color: black;background-color: white;}#sk-container-id-4 pre{padding: 0;}#sk-container-id-4 div.sk-toggleable {background-color: white;}#sk-container-id-4 label.sk-toggleable__label {cursor: pointer;display: block;width: 100%;margin-bottom: 0;padding: 0.3em;box-sizing: border-box;text-align: center;}#sk-container-id-4 label.sk-toggleable__label-arrow:before {content: \"▸\";float: left;margin-right: 0.25em;color: #696969;}#sk-container-id-4 label.sk-toggleable__label-arrow:hover:before {color: black;}#sk-container-id-4 div.sk-estimator:hover label.sk-toggleable__label-arrow:before {color: black;}#sk-container-id-4 div.sk-toggleable__content {max-height: 0;max-width: 0;overflow: hidden;text-align: left;background-color: #f0f8ff;}#sk-container-id-4 div.sk-toggleable__content pre {margin: 0.2em;color: black;border-radius: 0.25em;background-color: #f0f8ff;}#sk-container-id-4 input.sk-toggleable__control:checked~div.sk-toggleable__content {max-height: 200px;max-width: 100%;overflow: auto;}#sk-container-id-4 input.sk-toggleable__control:checked~label.sk-toggleable__label-arrow:before {content: \"▾\";}#sk-container-id-4 div.sk-estimator input.sk-toggleable__control:checked~label.sk-toggleable__label {background-color: #d4ebff;}#sk-container-id-4 div.sk-label input.sk-toggleable__control:checked~label.sk-toggleable__label {background-color: #d4ebff;}#sk-container-id-4 input.sk-hidden--visually {border: 0;clip: rect(1px 1px 1px 1px);clip: rect(1px, 1px, 1px, 1px);height: 1px;margin: -1px;overflow: hidden;padding: 0;position: absolute;width: 1px;}#sk-container-id-4 div.sk-estimator {font-family: monospace;background-color: #f0f8ff;border: 1px dotted black;border-radius: 0.25em;box-sizing: border-box;margin-bottom: 0.5em;}#sk-container-id-4 div.sk-estimator:hover {background-color: #d4ebff;}#sk-container-id-4 div.sk-parallel-item::after {content: \"\";width: 100%;border-bottom: 1px solid gray;flex-grow: 1;}#sk-container-id-4 div.sk-label:hover label.sk-toggleable__label {background-color: #d4ebff;}#sk-container-id-4 div.sk-serial::before {content: \"\";position: absolute;border-left: 1px solid gray;box-sizing: border-box;top: 0;bottom: 0;left: 50%;z-index: 0;}#sk-container-id-4 div.sk-serial {display: flex;flex-direction: column;align-items: center;background-color: white;padding-right: 0.2em;padding-left: 0.2em;position: relative;}#sk-container-id-4 div.sk-item {position: relative;z-index: 1;}#sk-container-id-4 div.sk-parallel {display: flex;align-items: stretch;justify-content: center;background-color: white;position: relative;}#sk-container-id-4 div.sk-item::before, #sk-container-id-4 div.sk-parallel-item::before {content: \"\";position: absolute;border-left: 1px solid gray;box-sizing: border-box;top: 0;bottom: 0;left: 50%;z-index: -1;}#sk-container-id-4 div.sk-parallel-item {display: flex;flex-direction: column;z-index: 1;position: relative;background-color: white;}#sk-container-id-4 div.sk-parallel-item:first-child::after {align-self: flex-end;width: 50%;}#sk-container-id-4 div.sk-parallel-item:last-child::after {align-self: flex-start;width: 50%;}#sk-container-id-4 div.sk-parallel-item:only-child::after {width: 0;}#sk-container-id-4 div.sk-dashed-wrapped {border: 1px dashed gray;margin: 0 0.4em 0.5em 0.4em;box-sizing: border-box;padding-bottom: 0.4em;background-color: white;}#sk-container-id-4 div.sk-label label {font-family: monospace;font-weight: bold;display: inline-block;line-height: 1.2em;}#sk-container-id-4 div.sk-label-container {text-align: center;}#sk-container-id-4 div.sk-container {/* jupyter's `normalize.less` sets `[hidden] { display: none; }` but bootstrap.min.css set `[hidden] { display: none !important; }` so we also need the `!important` here to be able to override the default hidden behavior on the sphinx rendered scikit-learn.org. See: https://github.com/scikit-learn/scikit-learn/issues/21755 */display: inline-block !important;position: relative;}#sk-container-id-4 div.sk-text-repr-fallback {display: none;}</style><div id=\"sk-container-id-4\" class=\"sk-top-container\"><div class=\"sk-text-repr-fallback\"><pre>DecisionTreeClassifier()</pre><b>In a Jupyter environment, please rerun this cell to show the HTML representation or trust the notebook. <br />On GitHub, the HTML representation is unable to render, please try loading this page with nbviewer.org.</b></div><div class=\"sk-container\" hidden><div class=\"sk-item\"><div class=\"sk-estimator sk-toggleable\"><input class=\"sk-toggleable__control sk-hidden--visually\" id=\"sk-estimator-id-4\" type=\"checkbox\" checked><label for=\"sk-estimator-id-4\" class=\"sk-toggleable__label sk-toggleable__label-arrow\">DecisionTreeClassifier</label><div class=\"sk-toggleable__content\"><pre>DecisionTreeClassifier()</pre></div></div></div></div></div>"
      ],
      "text/plain": [
       "DecisionTreeClassifier()"
      ]
     },
     "execution_count": 53,
     "metadata": {},
     "output_type": "execute_result"
    }
   ],
   "source": [
    "tree = DecisionTreeClassifier()\n",
    "tree.fit(X_train, Y_train)"
   ]
  },
  {
   "cell_type": "code",
   "execution_count": 54,
   "id": "7f3c8233",
   "metadata": {},
   "outputs": [],
   "source": [
    "\n",
    "X_test_prediction = tree.predict(X_test)\n",
    "test_data_accuracy= accuracy_score(X_test_prediction,Y_test)"
   ]
  },
  {
   "cell_type": "code",
   "execution_count": 55,
   "id": "5399af9e",
   "metadata": {},
   "outputs": [
    {
     "data": {
      "text/plain": [
       "0.6444444444444445"
      ]
     },
     "execution_count": 55,
     "metadata": {},
     "output_type": "execute_result"
    }
   ],
   "source": [
    "test_data_accuracy"
   ]
  },
  {
   "cell_type": "markdown",
   "id": "50a37807",
   "metadata": {},
   "source": [
    "# Random Forest"
   ]
  },
  {
   "cell_type": "code",
   "execution_count": 56,
   "id": "ecf26b55",
   "metadata": {},
   "outputs": [],
   "source": [
    "models2 = dict()"
   ]
  },
  {
   "cell_type": "code",
   "execution_count": 57,
   "id": "04c52516",
   "metadata": {},
   "outputs": [],
   "source": [
    "r= RandomForestClassifier(n_estimators=200)"
   ]
  },
  {
   "cell_type": "code",
   "execution_count": 58,
   "id": "d3ac5760",
   "metadata": {
    "scrolled": true
   },
   "outputs": [
    {
     "data": {
      "text/html": [
       "<style>#sk-container-id-5 {color: black;background-color: white;}#sk-container-id-5 pre{padding: 0;}#sk-container-id-5 div.sk-toggleable {background-color: white;}#sk-container-id-5 label.sk-toggleable__label {cursor: pointer;display: block;width: 100%;margin-bottom: 0;padding: 0.3em;box-sizing: border-box;text-align: center;}#sk-container-id-5 label.sk-toggleable__label-arrow:before {content: \"▸\";float: left;margin-right: 0.25em;color: #696969;}#sk-container-id-5 label.sk-toggleable__label-arrow:hover:before {color: black;}#sk-container-id-5 div.sk-estimator:hover label.sk-toggleable__label-arrow:before {color: black;}#sk-container-id-5 div.sk-toggleable__content {max-height: 0;max-width: 0;overflow: hidden;text-align: left;background-color: #f0f8ff;}#sk-container-id-5 div.sk-toggleable__content pre {margin: 0.2em;color: black;border-radius: 0.25em;background-color: #f0f8ff;}#sk-container-id-5 input.sk-toggleable__control:checked~div.sk-toggleable__content {max-height: 200px;max-width: 100%;overflow: auto;}#sk-container-id-5 input.sk-toggleable__control:checked~label.sk-toggleable__label-arrow:before {content: \"▾\";}#sk-container-id-5 div.sk-estimator input.sk-toggleable__control:checked~label.sk-toggleable__label {background-color: #d4ebff;}#sk-container-id-5 div.sk-label input.sk-toggleable__control:checked~label.sk-toggleable__label {background-color: #d4ebff;}#sk-container-id-5 input.sk-hidden--visually {border: 0;clip: rect(1px 1px 1px 1px);clip: rect(1px, 1px, 1px, 1px);height: 1px;margin: -1px;overflow: hidden;padding: 0;position: absolute;width: 1px;}#sk-container-id-5 div.sk-estimator {font-family: monospace;background-color: #f0f8ff;border: 1px dotted black;border-radius: 0.25em;box-sizing: border-box;margin-bottom: 0.5em;}#sk-container-id-5 div.sk-estimator:hover {background-color: #d4ebff;}#sk-container-id-5 div.sk-parallel-item::after {content: \"\";width: 100%;border-bottom: 1px solid gray;flex-grow: 1;}#sk-container-id-5 div.sk-label:hover label.sk-toggleable__label {background-color: #d4ebff;}#sk-container-id-5 div.sk-serial::before {content: \"\";position: absolute;border-left: 1px solid gray;box-sizing: border-box;top: 0;bottom: 0;left: 50%;z-index: 0;}#sk-container-id-5 div.sk-serial {display: flex;flex-direction: column;align-items: center;background-color: white;padding-right: 0.2em;padding-left: 0.2em;position: relative;}#sk-container-id-5 div.sk-item {position: relative;z-index: 1;}#sk-container-id-5 div.sk-parallel {display: flex;align-items: stretch;justify-content: center;background-color: white;position: relative;}#sk-container-id-5 div.sk-item::before, #sk-container-id-5 div.sk-parallel-item::before {content: \"\";position: absolute;border-left: 1px solid gray;box-sizing: border-box;top: 0;bottom: 0;left: 50%;z-index: -1;}#sk-container-id-5 div.sk-parallel-item {display: flex;flex-direction: column;z-index: 1;position: relative;background-color: white;}#sk-container-id-5 div.sk-parallel-item:first-child::after {align-self: flex-end;width: 50%;}#sk-container-id-5 div.sk-parallel-item:last-child::after {align-self: flex-start;width: 50%;}#sk-container-id-5 div.sk-parallel-item:only-child::after {width: 0;}#sk-container-id-5 div.sk-dashed-wrapped {border: 1px dashed gray;margin: 0 0.4em 0.5em 0.4em;box-sizing: border-box;padding-bottom: 0.4em;background-color: white;}#sk-container-id-5 div.sk-label label {font-family: monospace;font-weight: bold;display: inline-block;line-height: 1.2em;}#sk-container-id-5 div.sk-label-container {text-align: center;}#sk-container-id-5 div.sk-container {/* jupyter's `normalize.less` sets `[hidden] { display: none; }` but bootstrap.min.css set `[hidden] { display: none !important; }` so we also need the `!important` here to be able to override the default hidden behavior on the sphinx rendered scikit-learn.org. See: https://github.com/scikit-learn/scikit-learn/issues/21755 */display: inline-block !important;position: relative;}#sk-container-id-5 div.sk-text-repr-fallback {display: none;}</style><div id=\"sk-container-id-5\" class=\"sk-top-container\"><div class=\"sk-text-repr-fallback\"><pre>RandomForestClassifier(n_estimators=200)</pre><b>In a Jupyter environment, please rerun this cell to show the HTML representation or trust the notebook. <br />On GitHub, the HTML representation is unable to render, please try loading this page with nbviewer.org.</b></div><div class=\"sk-container\" hidden><div class=\"sk-item\"><div class=\"sk-estimator sk-toggleable\"><input class=\"sk-toggleable__control sk-hidden--visually\" id=\"sk-estimator-id-5\" type=\"checkbox\" checked><label for=\"sk-estimator-id-5\" class=\"sk-toggleable__label sk-toggleable__label-arrow\">RandomForestClassifier</label><div class=\"sk-toggleable__content\"><pre>RandomForestClassifier(n_estimators=200)</pre></div></div></div></div></div>"
      ],
      "text/plain": [
       "RandomForestClassifier(n_estimators=200)"
      ]
     },
     "execution_count": 58,
     "metadata": {},
     "output_type": "execute_result"
    }
   ],
   "source": [
    "r.fit(X_train,Y_train)"
   ]
  },
  {
   "cell_type": "code",
   "execution_count": 59,
   "id": "1e4bb9dd",
   "metadata": {},
   "outputs": [],
   "source": [
    "X_test_prediction = r.predict(X_test)\n",
    "test_data_accuracy= accuracy_score(X_test_prediction,Y_test)"
   ]
  },
  {
   "cell_type": "code",
   "execution_count": 60,
   "id": "0004a250",
   "metadata": {},
   "outputs": [
    {
     "data": {
      "text/plain": [
       "0.6666666666666666"
      ]
     },
     "execution_count": 60,
     "metadata": {},
     "output_type": "execute_result"
    }
   ],
   "source": [
    "test_data_accuracy"
   ]
  },
  {
   "cell_type": "markdown",
   "id": "bf5549cf",
   "metadata": {},
   "source": [
    "# K Nearest Neighbor"
   ]
  },
  {
   "cell_type": "code",
   "execution_count": 61,
   "id": "7648d3fb",
   "metadata": {},
   "outputs": [],
   "source": [
    "wcss=[]"
   ]
  },
  {
   "cell_type": "code",
   "execution_count": 62,
   "id": "ccc09a28",
   "metadata": {},
   "outputs": [
    {
     "name": "stderr",
     "output_type": "stream",
     "text": [
      "C:\\ProgramData\\anaconda3\\lib\\site-packages\\sklearn\\cluster\\_kmeans.py:1382: UserWarning: KMeans is known to have a memory leak on Windows with MKL, when there are less chunks than available threads. You can avoid it by setting the environment variable OMP_NUM_THREADS=1.\n",
      "  warnings.warn(\n",
      "C:\\ProgramData\\anaconda3\\lib\\site-packages\\sklearn\\cluster\\_kmeans.py:1382: UserWarning: KMeans is known to have a memory leak on Windows with MKL, when there are less chunks than available threads. You can avoid it by setting the environment variable OMP_NUM_THREADS=1.\n",
      "  warnings.warn(\n",
      "C:\\ProgramData\\anaconda3\\lib\\site-packages\\sklearn\\cluster\\_kmeans.py:1382: UserWarning: KMeans is known to have a memory leak on Windows with MKL, when there are less chunks than available threads. You can avoid it by setting the environment variable OMP_NUM_THREADS=1.\n",
      "  warnings.warn(\n",
      "C:\\ProgramData\\anaconda3\\lib\\site-packages\\sklearn\\cluster\\_kmeans.py:1382: UserWarning: KMeans is known to have a memory leak on Windows with MKL, when there are less chunks than available threads. You can avoid it by setting the environment variable OMP_NUM_THREADS=1.\n",
      "  warnings.warn(\n",
      "C:\\ProgramData\\anaconda3\\lib\\site-packages\\sklearn\\cluster\\_kmeans.py:1382: UserWarning: KMeans is known to have a memory leak on Windows with MKL, when there are less chunks than available threads. You can avoid it by setting the environment variable OMP_NUM_THREADS=1.\n",
      "  warnings.warn(\n",
      "C:\\ProgramData\\anaconda3\\lib\\site-packages\\sklearn\\cluster\\_kmeans.py:1382: UserWarning: KMeans is known to have a memory leak on Windows with MKL, when there are less chunks than available threads. You can avoid it by setting the environment variable OMP_NUM_THREADS=1.\n",
      "  warnings.warn(\n",
      "C:\\ProgramData\\anaconda3\\lib\\site-packages\\sklearn\\cluster\\_kmeans.py:1382: UserWarning: KMeans is known to have a memory leak on Windows with MKL, when there are less chunks than available threads. You can avoid it by setting the environment variable OMP_NUM_THREADS=1.\n",
      "  warnings.warn(\n",
      "C:\\ProgramData\\anaconda3\\lib\\site-packages\\sklearn\\cluster\\_kmeans.py:1382: UserWarning: KMeans is known to have a memory leak on Windows with MKL, when there are less chunks than available threads. You can avoid it by setting the environment variable OMP_NUM_THREADS=1.\n",
      "  warnings.warn(\n",
      "C:\\ProgramData\\anaconda3\\lib\\site-packages\\sklearn\\cluster\\_kmeans.py:1382: UserWarning: KMeans is known to have a memory leak on Windows with MKL, when there are less chunks than available threads. You can avoid it by setting the environment variable OMP_NUM_THREADS=1.\n",
      "  warnings.warn(\n",
      "C:\\ProgramData\\anaconda3\\lib\\site-packages\\sklearn\\cluster\\_kmeans.py:1382: UserWarning: KMeans is known to have a memory leak on Windows with MKL, when there are less chunks than available threads. You can avoid it by setting the environment variable OMP_NUM_THREADS=1.\n",
      "  warnings.warn(\n"
     ]
    }
   ],
   "source": [
    "for k in range(1,11):\n",
    "    k_mean=KMeans(n_clusters= k, init='k-means++', max_iter=300, n_init=10,random_state=46)\n",
    "    k_mean.fit(X)\n",
    "    wcss.append(k_mean.inertia_)"
   ]
  },
  {
   "cell_type": "code",
   "execution_count": 63,
   "id": "1cf26267",
   "metadata": {},
   "outputs": [
    {
     "data": {
      "text/plain": [
       "[1850630205.1121604,\n",
       " 697867352.6114651,\n",
       " 338823022.468906,\n",
       " 205554852.4269718,\n",
       " 143486599.81698757,\n",
       " 107509275.04699537,\n",
       " 74525496.17747653,\n",
       " 58554117.22891631,\n",
       " 45448043.78246906,\n",
       " 33977109.1021611]"
      ]
     },
     "execution_count": 63,
     "metadata": {},
     "output_type": "execute_result"
    }
   ],
   "source": [
    "wcss"
   ]
  },
  {
   "cell_type": "code",
   "execution_count": 64,
   "id": "91684b2e",
   "metadata": {},
   "outputs": [
    {
     "name": "stderr",
     "output_type": "stream",
     "text": [
      "C:\\ProgramData\\anaconda3\\lib\\site-packages\\sklearn\\cluster\\_kmeans.py:870: FutureWarning: The default value of `n_init` will change from 10 to 'auto' in 1.4. Set the value of `n_init` explicitly to suppress the warning\n",
      "  warnings.warn(\n",
      "C:\\ProgramData\\anaconda3\\lib\\site-packages\\sklearn\\cluster\\_kmeans.py:1382: UserWarning: KMeans is known to have a memory leak on Windows with MKL, when there are less chunks than available threads. You can avoid it by setting the environment variable OMP_NUM_THREADS=1.\n",
      "  warnings.warn(\n"
     ]
    },
    {
     "data": {
      "text/html": [
       "<style>#sk-container-id-6 {color: black;background-color: white;}#sk-container-id-6 pre{padding: 0;}#sk-container-id-6 div.sk-toggleable {background-color: white;}#sk-container-id-6 label.sk-toggleable__label {cursor: pointer;display: block;width: 100%;margin-bottom: 0;padding: 0.3em;box-sizing: border-box;text-align: center;}#sk-container-id-6 label.sk-toggleable__label-arrow:before {content: \"▸\";float: left;margin-right: 0.25em;color: #696969;}#sk-container-id-6 label.sk-toggleable__label-arrow:hover:before {color: black;}#sk-container-id-6 div.sk-estimator:hover label.sk-toggleable__label-arrow:before {color: black;}#sk-container-id-6 div.sk-toggleable__content {max-height: 0;max-width: 0;overflow: hidden;text-align: left;background-color: #f0f8ff;}#sk-container-id-6 div.sk-toggleable__content pre {margin: 0.2em;color: black;border-radius: 0.25em;background-color: #f0f8ff;}#sk-container-id-6 input.sk-toggleable__control:checked~div.sk-toggleable__content {max-height: 200px;max-width: 100%;overflow: auto;}#sk-container-id-6 input.sk-toggleable__control:checked~label.sk-toggleable__label-arrow:before {content: \"▾\";}#sk-container-id-6 div.sk-estimator input.sk-toggleable__control:checked~label.sk-toggleable__label {background-color: #d4ebff;}#sk-container-id-6 div.sk-label input.sk-toggleable__control:checked~label.sk-toggleable__label {background-color: #d4ebff;}#sk-container-id-6 input.sk-hidden--visually {border: 0;clip: rect(1px 1px 1px 1px);clip: rect(1px, 1px, 1px, 1px);height: 1px;margin: -1px;overflow: hidden;padding: 0;position: absolute;width: 1px;}#sk-container-id-6 div.sk-estimator {font-family: monospace;background-color: #f0f8ff;border: 1px dotted black;border-radius: 0.25em;box-sizing: border-box;margin-bottom: 0.5em;}#sk-container-id-6 div.sk-estimator:hover {background-color: #d4ebff;}#sk-container-id-6 div.sk-parallel-item::after {content: \"\";width: 100%;border-bottom: 1px solid gray;flex-grow: 1;}#sk-container-id-6 div.sk-label:hover label.sk-toggleable__label {background-color: #d4ebff;}#sk-container-id-6 div.sk-serial::before {content: \"\";position: absolute;border-left: 1px solid gray;box-sizing: border-box;top: 0;bottom: 0;left: 50%;z-index: 0;}#sk-container-id-6 div.sk-serial {display: flex;flex-direction: column;align-items: center;background-color: white;padding-right: 0.2em;padding-left: 0.2em;position: relative;}#sk-container-id-6 div.sk-item {position: relative;z-index: 1;}#sk-container-id-6 div.sk-parallel {display: flex;align-items: stretch;justify-content: center;background-color: white;position: relative;}#sk-container-id-6 div.sk-item::before, #sk-container-id-6 div.sk-parallel-item::before {content: \"\";position: absolute;border-left: 1px solid gray;box-sizing: border-box;top: 0;bottom: 0;left: 50%;z-index: -1;}#sk-container-id-6 div.sk-parallel-item {display: flex;flex-direction: column;z-index: 1;position: relative;background-color: white;}#sk-container-id-6 div.sk-parallel-item:first-child::after {align-self: flex-end;width: 50%;}#sk-container-id-6 div.sk-parallel-item:last-child::after {align-self: flex-start;width: 50%;}#sk-container-id-6 div.sk-parallel-item:only-child::after {width: 0;}#sk-container-id-6 div.sk-dashed-wrapped {border: 1px dashed gray;margin: 0 0.4em 0.5em 0.4em;box-sizing: border-box;padding-bottom: 0.4em;background-color: white;}#sk-container-id-6 div.sk-label label {font-family: monospace;font-weight: bold;display: inline-block;line-height: 1.2em;}#sk-container-id-6 div.sk-label-container {text-align: center;}#sk-container-id-6 div.sk-container {/* jupyter's `normalize.less` sets `[hidden] { display: none; }` but bootstrap.min.css set `[hidden] { display: none !important; }` so we also need the `!important` here to be able to override the default hidden behavior on the sphinx rendered scikit-learn.org. See: https://github.com/scikit-learn/scikit-learn/issues/21755 */display: inline-block !important;position: relative;}#sk-container-id-6 div.sk-text-repr-fallback {display: none;}</style><div id=\"sk-container-id-6\" class=\"sk-top-container\"><div class=\"sk-text-repr-fallback\"><pre>KMeans(n_clusters=4)</pre><b>In a Jupyter environment, please rerun this cell to show the HTML representation or trust the notebook. <br />On GitHub, the HTML representation is unable to render, please try loading this page with nbviewer.org.</b></div><div class=\"sk-container\" hidden><div class=\"sk-item\"><div class=\"sk-estimator sk-toggleable\"><input class=\"sk-toggleable__control sk-hidden--visually\" id=\"sk-estimator-id-6\" type=\"checkbox\" checked><label for=\"sk-estimator-id-6\" class=\"sk-toggleable__label sk-toggleable__label-arrow\">KMeans</label><div class=\"sk-toggleable__content\"><pre>KMeans(n_clusters=4)</pre></div></div></div></div></div>"
      ],
      "text/plain": [
       "KMeans(n_clusters=4)"
      ]
     },
     "execution_count": 64,
     "metadata": {},
     "output_type": "execute_result"
    }
   ],
   "source": [
    "k=4\n",
    "k_mean=KMeans(n_clusters=k)\n",
    "k_mean.fit(X)"
   ]
  },
  {
   "cell_type": "code",
   "execution_count": 65,
   "id": "95104d1d",
   "metadata": {},
   "outputs": [],
   "source": [
    "X_test_prediction = k_mean.predict(X_test)\n",
    "test_data_accuracy= accuracy_score(X_test_prediction,Y_test)"
   ]
  },
  {
   "cell_type": "code",
   "execution_count": 66,
   "id": "a9d06318",
   "metadata": {},
   "outputs": [
    {
     "data": {
      "text/plain": [
       "0.13333333333333333"
      ]
     },
     "execution_count": 66,
     "metadata": {},
     "output_type": "execute_result"
    }
   ],
   "source": [
    "test_data_accuracy"
   ]
  },
  {
   "cell_type": "code",
   "execution_count": 67,
   "id": "46d2f824",
   "metadata": {},
   "outputs": [],
   "source": [
    "algorithms = [\"Logistic Regression\",\"SVC\",\"Naive Byes\",\"Decision Tree\",\"Random Forest\",\"K-Means\"]\n",
    "scores = [0.5168539325842697,0.5111111111111111,0.5111111111111111,0.6222222222222222,0.6666666666666666,0.3333333333333333]  "
   ]
  },
  {
   "cell_type": "code",
   "execution_count": 68,
   "id": "8d94c6d0",
   "metadata": {},
   "outputs": [
    {
     "data": {
      "image/png": "[encoded data removed]",
      "text/plain": [
       "<Figure size 1000x1000 with 1 Axes>"
      ]
     },
     "metadata": {},
     "output_type": "display_data"
    }
   ],
   "source": [
    "plt.figure(figsize=(10, 10))  \n",
    "plt.bar(algorithms, scores, color='yellow')\n",
    "plt.xlabel('Algorithms')\n",
    "plt.ylabel('Score')\n",
    "plt.title('Machine Learning Algorithm Comparision')\n",
    "plt.show()"
   ]
  },
  {
   "cell_type": "code",
   "execution_count": 69,
   "id": "8c382dc3",
   "metadata": {},
   "outputs": [],
   "source": [
    "import joblib"
   ]
  },
  {
   "cell_type": "code",
   "execution_count": 70,
   "id": "2f13fbc9",
   "metadata": {},
   "outputs": [
    {
     "data": {
      "text/plain": [
       "['daily_pedometer_predict']"
      ]
     },
     "execution_count": 70,
     "metadata": {},
     "output_type": "execute_result"
    }
   ],
   "source": [
    "joblib.dump(r,'daily_pedometer_predict')"
   ]
  },
  {
   "cell_type": "code",
   "execution_count": 71,
   "id": "40e65441",
   "metadata": {},
   "outputs": [],
   "source": [
    "model = joblib.load('daily_pedometer_predict')"
   ]
  },
  {
   "cell_type": "code",
   "execution_count": 72,
   "id": "f7d7a143",
   "metadata": {},
   "outputs": [],
   "source": [
    "import pandas as pd\n",
    "dp = pd.DataFrame({\n",
    "    'Unnamed: 0':1,\n",
    "    'StepCount':2615,\n",
    "    'Kcal':8,\n",
    "    'Miles':1.4,\n",
    "    'Day':0,\n",
    "    'Walk':0,\n",
    "    'Steps':2.615\n",
    "},index=[0])"
   ]
  },
  {
   "cell_type": "code",
   "execution_count": 73,
   "id": "c7f64e82",
   "metadata": {},
   "outputs": [
    {
     "data": {
      "text/html": [
       "<div>\n",
       "<style scoped>\n",
       "    .dataframe tbody tr th:only-of-type {\n",
       "        vertical-align: middle;\n",
       "    }\n",
       "\n",
       "    .dataframe tbody tr th {\n",
       "        vertical-align: top;\n",
       "    }\n",
       "\n",
       "    .dataframe thead th {\n",
       "        text-align: right;\n",
       "    }\n",
       "</style>\n",
       "<table border=\"1\" class=\"dataframe\">\n",
       "  <thead>\n",
       "    <tr style=\"text-align: right;\">\n",
       "      <th></th>\n",
       "      <th>Unnamed: 0</th>\n",
       "      <th>StepCount</th>\n",
       "      <th>Kcal</th>\n",
       "      <th>Miles</th>\n",
       "      <th>Day</th>\n",
       "      <th>Walk</th>\n",
       "      <th>Steps</th>\n",
       "    </tr>\n",
       "  </thead>\n",
       "  <tbody>\n",
       "    <tr>\n",
       "      <th>0</th>\n",
       "      <td>1</td>\n",
       "      <td>2615</td>\n",
       "      <td>8</td>\n",
       "      <td>1.4</td>\n",
       "      <td>0</td>\n",
       "      <td>0</td>\n",
       "      <td>2.615</td>\n",
       "    </tr>\n",
       "  </tbody>\n",
       "</table>\n",
       "</div>"
      ],
      "text/plain": [
       "   Unnamed: 0  StepCount  Kcal  Miles  Day  Walk  Steps\n",
       "0           1       2615     8    1.4    0     0  2.615"
      ]
     },
     "execution_count": 73,
     "metadata": {},
     "output_type": "execute_result"
    }
   ],
   "source": [
    "dp"
   ]
  },
  {
   "cell_type": "code",
   "execution_count": 74,
   "id": "cffa2a91",
   "metadata": {},
   "outputs": [],
   "source": [
    "result= model.predict(dp)"
   ]
  },
  {
   "cell_type": "code",
   "execution_count": 75,
   "id": "a2696433",
   "metadata": {},
   "outputs": [
    {
     "data": {
      "text/plain": [
       "array([2])"
      ]
     },
     "execution_count": 75,
     "metadata": {},
     "output_type": "execute_result"
    }
   ],
   "source": [
    "result"
   ]
  },
  {
   "cell_type": "code",
   "execution_count": 76,
   "id": "ab0ba5c8",
   "metadata": {},
   "outputs": [
    {
     "name": "stdout",
     "output_type": "stream",
     "text": [
      "Congratulation! Your Weather Is good\n"
     ]
    }
   ],
   "source": [
    "if result ==2:\n",
    "    print(\"Congratulation! Your Weather Is good\")\n",
    "else:\n",
    "    print(\"Sorry... Your weather Is bad\")"
   ]
  },
  {
   "cell_type": "code",
   "execution_count": null,
   "id": "b6d5263f",
   "metadata": {},
   "outputs": [],
   "source": []
  }
 ],
 "metadata": {
  "kernelspec": {
   "display_name": "Python 3 (ipykernel)",
   "language": "python",
   "name": "python3"
  },
  "language_info": {
   "codemirror_mode": {
    "name": "ipython",
    "version": 3
   },
   "file_extension": ".py",
   "mimetype": "text/x-python",
   "name": "python",
   "nbconvert_exporter": "python",
   "pygments_lexer": "ipython3",
   "version": "3.10.9"
  }
 },
 "nbformat": 4,
 "nbformat_minor": 5
}
